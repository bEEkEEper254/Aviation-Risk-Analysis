{
 "cells": [
  {
   "cell_type": "markdown",
   "metadata": {},
   "source": [
    "# TITLE: ASSESSING LOW-RISK AIRCRAFT FOR AVIATION EXPANSION"
   ]
  },
  {
   "cell_type": "markdown",
   "metadata": {},
   "source": [
    "## INTRODUCTION\n"
   ]
  },
  {
   "cell_type": "markdown",
   "metadata": {},
   "source": [
    "![Airplane Image](https://images.pexels.com/photos/3769532/pexels-photo-3769532.jpeg)\n"
   ]
  },
  {
   "cell_type": "markdown",
   "metadata": {},
   "source": [
    "Datan Africa is interested in purchasing and operating airplanes for private \n",
    "and commercial puposes to diversify its portfolio.The risks of this venture are unknown and \n",
    "an in depth risk  analysis is required inorder to determine the aircraft with the lowest risk.The data for this analysis was obtained from the National Transportation Safety Board that includes aviation accident data from 1962 to 2023 about civil aviation accidents and selected incidents in the United States and international waters.      "
   ]
  },
  {
   "cell_type": "markdown",
   "metadata": {},
   "source": [
    "## 1.0 OBJECTIVES\n",
    "    1.To determine the aircraft with the lowest risk.\n",
    "    2.To translate findings into actionable insights."
   ]
  },
  {
   "cell_type": "markdown",
   "metadata": {},
   "source": [
    "## 1.1 BUSINESS UNDERSTANDING\n",
    "The aircraft industry is diverse, requiring investors to understand its complexities before choosing a path. Datan Africa aims to invest in purchasing and operating planes for commercial and private use, focusing this research on identifying the least risky aircraft. The primary risk is accidents, which can make specific airlines and planes unattractive to customers, leading to significant financial losses. Given that airplanes are costly with minimal salvage value post-accident, our research will concentrate on analyzing the frequency and impact of accidents associated with different aircraft.\n"
   ]
  },
  {
   "cell_type": "markdown",
   "metadata": {},
   "source": [
    "## 2.0 DATA UNDERSTANDING\n"
   ]
  },
  {
   "cell_type": "markdown",
   "metadata": {},
   "source": [
    "2.0.1 Uploading the relevant libraries and uploading the data."
   ]
  },
  {
   "cell_type": "code",
   "execution_count": 3,
   "metadata": {},
   "outputs": [
    {
     "data": {
      "text/html": [
       "<div>\n",
       "<style scoped>\n",
       "    .dataframe tbody tr th:only-of-type {\n",
       "        vertical-align: middle;\n",
       "    }\n",
       "\n",
       "    .dataframe tbody tr th {\n",
       "        vertical-align: top;\n",
       "    }\n",
       "\n",
       "    .dataframe thead th {\n",
       "        text-align: right;\n",
       "    }\n",
       "</style>\n",
       "<table border=\"1\" class=\"dataframe\">\n",
       "  <thead>\n",
       "    <tr style=\"text-align: right;\">\n",
       "      <th></th>\n",
       "      <th>Event.Id</th>\n",
       "      <th>Investigation.Type</th>\n",
       "      <th>Accident.Number</th>\n",
       "      <th>Event.Date</th>\n",
       "      <th>Location</th>\n",
       "      <th>Country</th>\n",
       "      <th>Latitude</th>\n",
       "      <th>Longitude</th>\n",
       "      <th>Airport.Code</th>\n",
       "      <th>Airport.Name</th>\n",
       "      <th>...</th>\n",
       "      <th>Purpose.of.flight</th>\n",
       "      <th>Air.carrier</th>\n",
       "      <th>Total.Fatal.Injuries</th>\n",
       "      <th>Total.Serious.Injuries</th>\n",
       "      <th>Total.Minor.Injuries</th>\n",
       "      <th>Total.Uninjured</th>\n",
       "      <th>Weather.Condition</th>\n",
       "      <th>Broad.phase.of.flight</th>\n",
       "      <th>Report.Status</th>\n",
       "      <th>Publication.Date</th>\n",
       "    </tr>\n",
       "  </thead>\n",
       "  <tbody>\n",
       "    <tr>\n",
       "      <th>0</th>\n",
       "      <td>20001218X45444</td>\n",
       "      <td>Accident</td>\n",
       "      <td>SEA87LA080</td>\n",
       "      <td>1948-10-24</td>\n",
       "      <td>MOOSE CREEK, ID</td>\n",
       "      <td>United States</td>\n",
       "      <td>NaN</td>\n",
       "      <td>NaN</td>\n",
       "      <td>NaN</td>\n",
       "      <td>NaN</td>\n",
       "      <td>...</td>\n",
       "      <td>Personal</td>\n",
       "      <td>NaN</td>\n",
       "      <td>2.0</td>\n",
       "      <td>0.0</td>\n",
       "      <td>0.0</td>\n",
       "      <td>0.0</td>\n",
       "      <td>UNK</td>\n",
       "      <td>Cruise</td>\n",
       "      <td>Probable Cause</td>\n",
       "      <td>NaN</td>\n",
       "    </tr>\n",
       "    <tr>\n",
       "      <th>1</th>\n",
       "      <td>20001218X45447</td>\n",
       "      <td>Accident</td>\n",
       "      <td>LAX94LA336</td>\n",
       "      <td>1962-07-19</td>\n",
       "      <td>BRIDGEPORT, CA</td>\n",
       "      <td>United States</td>\n",
       "      <td>NaN</td>\n",
       "      <td>NaN</td>\n",
       "      <td>NaN</td>\n",
       "      <td>NaN</td>\n",
       "      <td>...</td>\n",
       "      <td>Personal</td>\n",
       "      <td>NaN</td>\n",
       "      <td>4.0</td>\n",
       "      <td>0.0</td>\n",
       "      <td>0.0</td>\n",
       "      <td>0.0</td>\n",
       "      <td>UNK</td>\n",
       "      <td>Unknown</td>\n",
       "      <td>Probable Cause</td>\n",
       "      <td>19-09-1996</td>\n",
       "    </tr>\n",
       "    <tr>\n",
       "      <th>2</th>\n",
       "      <td>20061025X01555</td>\n",
       "      <td>Accident</td>\n",
       "      <td>NYC07LA005</td>\n",
       "      <td>1974-08-30</td>\n",
       "      <td>Saltville, VA</td>\n",
       "      <td>United States</td>\n",
       "      <td>36.922223</td>\n",
       "      <td>-81.878056</td>\n",
       "      <td>NaN</td>\n",
       "      <td>NaN</td>\n",
       "      <td>...</td>\n",
       "      <td>Personal</td>\n",
       "      <td>NaN</td>\n",
       "      <td>3.0</td>\n",
       "      <td>NaN</td>\n",
       "      <td>NaN</td>\n",
       "      <td>NaN</td>\n",
       "      <td>IMC</td>\n",
       "      <td>Cruise</td>\n",
       "      <td>Probable Cause</td>\n",
       "      <td>26-02-2007</td>\n",
       "    </tr>\n",
       "    <tr>\n",
       "      <th>3</th>\n",
       "      <td>20001218X45448</td>\n",
       "      <td>Accident</td>\n",
       "      <td>LAX96LA321</td>\n",
       "      <td>1977-06-19</td>\n",
       "      <td>EUREKA, CA</td>\n",
       "      <td>United States</td>\n",
       "      <td>NaN</td>\n",
       "      <td>NaN</td>\n",
       "      <td>NaN</td>\n",
       "      <td>NaN</td>\n",
       "      <td>...</td>\n",
       "      <td>Personal</td>\n",
       "      <td>NaN</td>\n",
       "      <td>2.0</td>\n",
       "      <td>0.0</td>\n",
       "      <td>0.0</td>\n",
       "      <td>0.0</td>\n",
       "      <td>IMC</td>\n",
       "      <td>Cruise</td>\n",
       "      <td>Probable Cause</td>\n",
       "      <td>12-09-2000</td>\n",
       "    </tr>\n",
       "    <tr>\n",
       "      <th>4</th>\n",
       "      <td>20041105X01764</td>\n",
       "      <td>Accident</td>\n",
       "      <td>CHI79FA064</td>\n",
       "      <td>1979-08-02</td>\n",
       "      <td>Canton, OH</td>\n",
       "      <td>United States</td>\n",
       "      <td>NaN</td>\n",
       "      <td>NaN</td>\n",
       "      <td>NaN</td>\n",
       "      <td>NaN</td>\n",
       "      <td>...</td>\n",
       "      <td>Personal</td>\n",
       "      <td>NaN</td>\n",
       "      <td>1.0</td>\n",
       "      <td>2.0</td>\n",
       "      <td>NaN</td>\n",
       "      <td>0.0</td>\n",
       "      <td>VMC</td>\n",
       "      <td>Approach</td>\n",
       "      <td>Probable Cause</td>\n",
       "      <td>16-04-1980</td>\n",
       "    </tr>\n",
       "    <tr>\n",
       "      <th>...</th>\n",
       "      <td>...</td>\n",
       "      <td>...</td>\n",
       "      <td>...</td>\n",
       "      <td>...</td>\n",
       "      <td>...</td>\n",
       "      <td>...</td>\n",
       "      <td>...</td>\n",
       "      <td>...</td>\n",
       "      <td>...</td>\n",
       "      <td>...</td>\n",
       "      <td>...</td>\n",
       "      <td>...</td>\n",
       "      <td>...</td>\n",
       "      <td>...</td>\n",
       "      <td>...</td>\n",
       "      <td>...</td>\n",
       "      <td>...</td>\n",
       "      <td>...</td>\n",
       "      <td>...</td>\n",
       "      <td>...</td>\n",
       "      <td>...</td>\n",
       "    </tr>\n",
       "    <tr>\n",
       "      <th>88884</th>\n",
       "      <td>20221227106491</td>\n",
       "      <td>Accident</td>\n",
       "      <td>ERA23LA093</td>\n",
       "      <td>2022-12-26</td>\n",
       "      <td>Annapolis, MD</td>\n",
       "      <td>United States</td>\n",
       "      <td>NaN</td>\n",
       "      <td>NaN</td>\n",
       "      <td>NaN</td>\n",
       "      <td>NaN</td>\n",
       "      <td>...</td>\n",
       "      <td>Personal</td>\n",
       "      <td>NaN</td>\n",
       "      <td>0.0</td>\n",
       "      <td>1.0</td>\n",
       "      <td>0.0</td>\n",
       "      <td>0.0</td>\n",
       "      <td>NaN</td>\n",
       "      <td>NaN</td>\n",
       "      <td>NaN</td>\n",
       "      <td>29-12-2022</td>\n",
       "    </tr>\n",
       "    <tr>\n",
       "      <th>88885</th>\n",
       "      <td>20221227106494</td>\n",
       "      <td>Accident</td>\n",
       "      <td>ERA23LA095</td>\n",
       "      <td>2022-12-26</td>\n",
       "      <td>Hampton, NH</td>\n",
       "      <td>United States</td>\n",
       "      <td>NaN</td>\n",
       "      <td>NaN</td>\n",
       "      <td>NaN</td>\n",
       "      <td>NaN</td>\n",
       "      <td>...</td>\n",
       "      <td>NaN</td>\n",
       "      <td>NaN</td>\n",
       "      <td>0.0</td>\n",
       "      <td>0.0</td>\n",
       "      <td>0.0</td>\n",
       "      <td>0.0</td>\n",
       "      <td>NaN</td>\n",
       "      <td>NaN</td>\n",
       "      <td>NaN</td>\n",
       "      <td>NaN</td>\n",
       "    </tr>\n",
       "    <tr>\n",
       "      <th>88886</th>\n",
       "      <td>20221227106497</td>\n",
       "      <td>Accident</td>\n",
       "      <td>WPR23LA075</td>\n",
       "      <td>2022-12-26</td>\n",
       "      <td>Payson, AZ</td>\n",
       "      <td>United States</td>\n",
       "      <td>341525N</td>\n",
       "      <td>1112021W</td>\n",
       "      <td>PAN</td>\n",
       "      <td>PAYSON</td>\n",
       "      <td>...</td>\n",
       "      <td>Personal</td>\n",
       "      <td>NaN</td>\n",
       "      <td>0.0</td>\n",
       "      <td>0.0</td>\n",
       "      <td>0.0</td>\n",
       "      <td>1.0</td>\n",
       "      <td>VMC</td>\n",
       "      <td>NaN</td>\n",
       "      <td>NaN</td>\n",
       "      <td>27-12-2022</td>\n",
       "    </tr>\n",
       "    <tr>\n",
       "      <th>88887</th>\n",
       "      <td>20221227106498</td>\n",
       "      <td>Accident</td>\n",
       "      <td>WPR23LA076</td>\n",
       "      <td>2022-12-26</td>\n",
       "      <td>Morgan, UT</td>\n",
       "      <td>United States</td>\n",
       "      <td>NaN</td>\n",
       "      <td>NaN</td>\n",
       "      <td>NaN</td>\n",
       "      <td>NaN</td>\n",
       "      <td>...</td>\n",
       "      <td>Personal</td>\n",
       "      <td>MC CESSNA 210N LLC</td>\n",
       "      <td>0.0</td>\n",
       "      <td>0.0</td>\n",
       "      <td>0.0</td>\n",
       "      <td>0.0</td>\n",
       "      <td>NaN</td>\n",
       "      <td>NaN</td>\n",
       "      <td>NaN</td>\n",
       "      <td>NaN</td>\n",
       "    </tr>\n",
       "    <tr>\n",
       "      <th>88888</th>\n",
       "      <td>20221230106513</td>\n",
       "      <td>Accident</td>\n",
       "      <td>ERA23LA097</td>\n",
       "      <td>2022-12-29</td>\n",
       "      <td>Athens, GA</td>\n",
       "      <td>United States</td>\n",
       "      <td>NaN</td>\n",
       "      <td>NaN</td>\n",
       "      <td>NaN</td>\n",
       "      <td>NaN</td>\n",
       "      <td>...</td>\n",
       "      <td>Personal</td>\n",
       "      <td>NaN</td>\n",
       "      <td>0.0</td>\n",
       "      <td>1.0</td>\n",
       "      <td>0.0</td>\n",
       "      <td>1.0</td>\n",
       "      <td>NaN</td>\n",
       "      <td>NaN</td>\n",
       "      <td>NaN</td>\n",
       "      <td>30-12-2022</td>\n",
       "    </tr>\n",
       "  </tbody>\n",
       "</table>\n",
       "<p>88889 rows × 31 columns</p>\n",
       "</div>"
      ],
      "text/plain": [
       "             Event.Id Investigation.Type Accident.Number  Event.Date  \\\n",
       "0      20001218X45444           Accident      SEA87LA080  1948-10-24   \n",
       "1      20001218X45447           Accident      LAX94LA336  1962-07-19   \n",
       "2      20061025X01555           Accident      NYC07LA005  1974-08-30   \n",
       "3      20001218X45448           Accident      LAX96LA321  1977-06-19   \n",
       "4      20041105X01764           Accident      CHI79FA064  1979-08-02   \n",
       "...               ...                ...             ...         ...   \n",
       "88884  20221227106491           Accident      ERA23LA093  2022-12-26   \n",
       "88885  20221227106494           Accident      ERA23LA095  2022-12-26   \n",
       "88886  20221227106497           Accident      WPR23LA075  2022-12-26   \n",
       "88887  20221227106498           Accident      WPR23LA076  2022-12-26   \n",
       "88888  20221230106513           Accident      ERA23LA097  2022-12-29   \n",
       "\n",
       "              Location        Country   Latitude   Longitude Airport.Code  \\\n",
       "0      MOOSE CREEK, ID  United States        NaN         NaN          NaN   \n",
       "1       BRIDGEPORT, CA  United States        NaN         NaN          NaN   \n",
       "2        Saltville, VA  United States  36.922223  -81.878056          NaN   \n",
       "3           EUREKA, CA  United States        NaN         NaN          NaN   \n",
       "4           Canton, OH  United States        NaN         NaN          NaN   \n",
       "...                ...            ...        ...         ...          ...   \n",
       "88884    Annapolis, MD  United States        NaN         NaN          NaN   \n",
       "88885      Hampton, NH  United States        NaN         NaN          NaN   \n",
       "88886       Payson, AZ  United States    341525N    1112021W          PAN   \n",
       "88887       Morgan, UT  United States        NaN         NaN          NaN   \n",
       "88888       Athens, GA  United States        NaN         NaN          NaN   \n",
       "\n",
       "      Airport.Name  ... Purpose.of.flight         Air.carrier  \\\n",
       "0              NaN  ...          Personal                 NaN   \n",
       "1              NaN  ...          Personal                 NaN   \n",
       "2              NaN  ...          Personal                 NaN   \n",
       "3              NaN  ...          Personal                 NaN   \n",
       "4              NaN  ...          Personal                 NaN   \n",
       "...            ...  ...               ...                 ...   \n",
       "88884          NaN  ...          Personal                 NaN   \n",
       "88885          NaN  ...               NaN                 NaN   \n",
       "88886       PAYSON  ...          Personal                 NaN   \n",
       "88887          NaN  ...          Personal  MC CESSNA 210N LLC   \n",
       "88888          NaN  ...          Personal                 NaN   \n",
       "\n",
       "      Total.Fatal.Injuries Total.Serious.Injuries Total.Minor.Injuries  \\\n",
       "0                      2.0                    0.0                  0.0   \n",
       "1                      4.0                    0.0                  0.0   \n",
       "2                      3.0                    NaN                  NaN   \n",
       "3                      2.0                    0.0                  0.0   \n",
       "4                      1.0                    2.0                  NaN   \n",
       "...                    ...                    ...                  ...   \n",
       "88884                  0.0                    1.0                  0.0   \n",
       "88885                  0.0                    0.0                  0.0   \n",
       "88886                  0.0                    0.0                  0.0   \n",
       "88887                  0.0                    0.0                  0.0   \n",
       "88888                  0.0                    1.0                  0.0   \n",
       "\n",
       "      Total.Uninjured Weather.Condition  Broad.phase.of.flight  \\\n",
       "0                 0.0               UNK                 Cruise   \n",
       "1                 0.0               UNK                Unknown   \n",
       "2                 NaN               IMC                 Cruise   \n",
       "3                 0.0               IMC                 Cruise   \n",
       "4                 0.0               VMC               Approach   \n",
       "...               ...               ...                    ...   \n",
       "88884             0.0               NaN                    NaN   \n",
       "88885             0.0               NaN                    NaN   \n",
       "88886             1.0               VMC                    NaN   \n",
       "88887             0.0               NaN                    NaN   \n",
       "88888             1.0               NaN                    NaN   \n",
       "\n",
       "        Report.Status Publication.Date  \n",
       "0      Probable Cause              NaN  \n",
       "1      Probable Cause       19-09-1996  \n",
       "2      Probable Cause       26-02-2007  \n",
       "3      Probable Cause       12-09-2000  \n",
       "4      Probable Cause       16-04-1980  \n",
       "...               ...              ...  \n",
       "88884             NaN       29-12-2022  \n",
       "88885             NaN              NaN  \n",
       "88886             NaN       27-12-2022  \n",
       "88887             NaN              NaN  \n",
       "88888             NaN       30-12-2022  \n",
       "\n",
       "[88889 rows x 31 columns]"
      ]
     },
     "execution_count": 3,
     "metadata": {},
     "output_type": "execute_result"
    }
   ],
   "source": [
    "import pandas as pd\n",
    "import numpy as np\n",
    "import seaborn as sns\n",
    "import matplotlib.pyplot as plt\n",
    "import warnings\n",
    "%matplotlib inline\n",
    "warnings.filterwarnings(\"ignore\")\n",
    "df=pd.read_csv(\"/home/moringa/ochieng/phase_one_project/data/AviationData.csv\",encoding='iso-8859-1', low_memory=False)\n",
    "df"
   ]
  },
  {
   "cell_type": "markdown",
   "metadata": {},
   "source": [
    "2.0.2 Data overview"
   ]
  },
  {
   "cell_type": "code",
   "execution_count": 4,
   "metadata": {},
   "outputs": [
    {
     "name": "stdout",
     "output_type": "stream",
     "text": [
      "<class 'pandas.core.frame.DataFrame'>\n",
      "RangeIndex: 88889 entries, 0 to 88888\n",
      "Data columns (total 31 columns):\n",
      " #   Column                  Non-Null Count  Dtype  \n",
      "---  ------                  --------------  -----  \n",
      " 0   Event.Id                88889 non-null  object \n",
      " 1   Investigation.Type      88889 non-null  object \n",
      " 2   Accident.Number         88889 non-null  object \n",
      " 3   Event.Date              88889 non-null  object \n",
      " 4   Location                88837 non-null  object \n",
      " 5   Country                 88663 non-null  object \n",
      " 6   Latitude                34382 non-null  object \n",
      " 7   Longitude               34373 non-null  object \n",
      " 8   Airport.Code            50249 non-null  object \n",
      " 9   Airport.Name            52790 non-null  object \n",
      " 10  Injury.Severity         87889 non-null  object \n",
      " 11  Aircraft.damage         85695 non-null  object \n",
      " 12  Aircraft.Category       32287 non-null  object \n",
      " 13  Registration.Number     87572 non-null  object \n",
      " 14  Make                    88826 non-null  object \n",
      " 15  Model                   88797 non-null  object \n",
      " 16  Amateur.Built           88787 non-null  object \n",
      " 17  Number.of.Engines       82805 non-null  float64\n",
      " 18  Engine.Type             81812 non-null  object \n",
      " 19  FAR.Description         32023 non-null  object \n",
      " 20  Schedule                12582 non-null  object \n",
      " 21  Purpose.of.flight       82697 non-null  object \n",
      " 22  Air.carrier             16648 non-null  object \n",
      " 23  Total.Fatal.Injuries    77488 non-null  float64\n",
      " 24  Total.Serious.Injuries  76379 non-null  float64\n",
      " 25  Total.Minor.Injuries    76956 non-null  float64\n",
      " 26  Total.Uninjured         82977 non-null  float64\n",
      " 27  Weather.Condition       84397 non-null  object \n",
      " 28  Broad.phase.of.flight   61724 non-null  object \n",
      " 29  Report.Status           82508 non-null  object \n",
      " 30  Publication.Date        75118 non-null  object \n",
      "dtypes: float64(5), object(26)\n",
      "memory usage: 21.0+ MB\n"
     ]
    }
   ],
   "source": [
    "df.info()#gives a general summary of the data."
   ]
  },
  {
   "cell_type": "code",
   "execution_count": 5,
   "metadata": {},
   "outputs": [
    {
     "data": {
      "text/plain": [
       "(88889, 31)"
      ]
     },
     "execution_count": 5,
     "metadata": {},
     "output_type": "execute_result"
    }
   ],
   "source": [
    "df.shape#Gives the number of rows and columns of the data frame"
   ]
  },
  {
   "cell_type": "code",
   "execution_count": 6,
   "metadata": {},
   "outputs": [
    {
     "data": {
      "text/html": [
       "<div>\n",
       "<style scoped>\n",
       "    .dataframe tbody tr th:only-of-type {\n",
       "        vertical-align: middle;\n",
       "    }\n",
       "\n",
       "    .dataframe tbody tr th {\n",
       "        vertical-align: top;\n",
       "    }\n",
       "\n",
       "    .dataframe thead th {\n",
       "        text-align: right;\n",
       "    }\n",
       "</style>\n",
       "<table border=\"1\" class=\"dataframe\">\n",
       "  <thead>\n",
       "    <tr style=\"text-align: right;\">\n",
       "      <th></th>\n",
       "      <th>Event.Id</th>\n",
       "      <th>Investigation.Type</th>\n",
       "      <th>Accident.Number</th>\n",
       "      <th>Event.Date</th>\n",
       "      <th>Location</th>\n",
       "      <th>Country</th>\n",
       "      <th>Latitude</th>\n",
       "      <th>Longitude</th>\n",
       "      <th>Airport.Code</th>\n",
       "      <th>Airport.Name</th>\n",
       "      <th>...</th>\n",
       "      <th>Purpose.of.flight</th>\n",
       "      <th>Air.carrier</th>\n",
       "      <th>Total.Fatal.Injuries</th>\n",
       "      <th>Total.Serious.Injuries</th>\n",
       "      <th>Total.Minor.Injuries</th>\n",
       "      <th>Total.Uninjured</th>\n",
       "      <th>Weather.Condition</th>\n",
       "      <th>Broad.phase.of.flight</th>\n",
       "      <th>Report.Status</th>\n",
       "      <th>Publication.Date</th>\n",
       "    </tr>\n",
       "  </thead>\n",
       "  <tbody>\n",
       "    <tr>\n",
       "      <th>88884</th>\n",
       "      <td>20221227106491</td>\n",
       "      <td>Accident</td>\n",
       "      <td>ERA23LA093</td>\n",
       "      <td>2022-12-26</td>\n",
       "      <td>Annapolis, MD</td>\n",
       "      <td>United States</td>\n",
       "      <td>NaN</td>\n",
       "      <td>NaN</td>\n",
       "      <td>NaN</td>\n",
       "      <td>NaN</td>\n",
       "      <td>...</td>\n",
       "      <td>Personal</td>\n",
       "      <td>NaN</td>\n",
       "      <td>0.0</td>\n",
       "      <td>1.0</td>\n",
       "      <td>0.0</td>\n",
       "      <td>0.0</td>\n",
       "      <td>NaN</td>\n",
       "      <td>NaN</td>\n",
       "      <td>NaN</td>\n",
       "      <td>29-12-2022</td>\n",
       "    </tr>\n",
       "    <tr>\n",
       "      <th>88885</th>\n",
       "      <td>20221227106494</td>\n",
       "      <td>Accident</td>\n",
       "      <td>ERA23LA095</td>\n",
       "      <td>2022-12-26</td>\n",
       "      <td>Hampton, NH</td>\n",
       "      <td>United States</td>\n",
       "      <td>NaN</td>\n",
       "      <td>NaN</td>\n",
       "      <td>NaN</td>\n",
       "      <td>NaN</td>\n",
       "      <td>...</td>\n",
       "      <td>NaN</td>\n",
       "      <td>NaN</td>\n",
       "      <td>0.0</td>\n",
       "      <td>0.0</td>\n",
       "      <td>0.0</td>\n",
       "      <td>0.0</td>\n",
       "      <td>NaN</td>\n",
       "      <td>NaN</td>\n",
       "      <td>NaN</td>\n",
       "      <td>NaN</td>\n",
       "    </tr>\n",
       "    <tr>\n",
       "      <th>88886</th>\n",
       "      <td>20221227106497</td>\n",
       "      <td>Accident</td>\n",
       "      <td>WPR23LA075</td>\n",
       "      <td>2022-12-26</td>\n",
       "      <td>Payson, AZ</td>\n",
       "      <td>United States</td>\n",
       "      <td>341525N</td>\n",
       "      <td>1112021W</td>\n",
       "      <td>PAN</td>\n",
       "      <td>PAYSON</td>\n",
       "      <td>...</td>\n",
       "      <td>Personal</td>\n",
       "      <td>NaN</td>\n",
       "      <td>0.0</td>\n",
       "      <td>0.0</td>\n",
       "      <td>0.0</td>\n",
       "      <td>1.0</td>\n",
       "      <td>VMC</td>\n",
       "      <td>NaN</td>\n",
       "      <td>NaN</td>\n",
       "      <td>27-12-2022</td>\n",
       "    </tr>\n",
       "    <tr>\n",
       "      <th>88887</th>\n",
       "      <td>20221227106498</td>\n",
       "      <td>Accident</td>\n",
       "      <td>WPR23LA076</td>\n",
       "      <td>2022-12-26</td>\n",
       "      <td>Morgan, UT</td>\n",
       "      <td>United States</td>\n",
       "      <td>NaN</td>\n",
       "      <td>NaN</td>\n",
       "      <td>NaN</td>\n",
       "      <td>NaN</td>\n",
       "      <td>...</td>\n",
       "      <td>Personal</td>\n",
       "      <td>MC CESSNA 210N LLC</td>\n",
       "      <td>0.0</td>\n",
       "      <td>0.0</td>\n",
       "      <td>0.0</td>\n",
       "      <td>0.0</td>\n",
       "      <td>NaN</td>\n",
       "      <td>NaN</td>\n",
       "      <td>NaN</td>\n",
       "      <td>NaN</td>\n",
       "    </tr>\n",
       "    <tr>\n",
       "      <th>88888</th>\n",
       "      <td>20221230106513</td>\n",
       "      <td>Accident</td>\n",
       "      <td>ERA23LA097</td>\n",
       "      <td>2022-12-29</td>\n",
       "      <td>Athens, GA</td>\n",
       "      <td>United States</td>\n",
       "      <td>NaN</td>\n",
       "      <td>NaN</td>\n",
       "      <td>NaN</td>\n",
       "      <td>NaN</td>\n",
       "      <td>...</td>\n",
       "      <td>Personal</td>\n",
       "      <td>NaN</td>\n",
       "      <td>0.0</td>\n",
       "      <td>1.0</td>\n",
       "      <td>0.0</td>\n",
       "      <td>1.0</td>\n",
       "      <td>NaN</td>\n",
       "      <td>NaN</td>\n",
       "      <td>NaN</td>\n",
       "      <td>30-12-2022</td>\n",
       "    </tr>\n",
       "  </tbody>\n",
       "</table>\n",
       "<p>5 rows × 31 columns</p>\n",
       "</div>"
      ],
      "text/plain": [
       "             Event.Id Investigation.Type Accident.Number  Event.Date  \\\n",
       "88884  20221227106491           Accident      ERA23LA093  2022-12-26   \n",
       "88885  20221227106494           Accident      ERA23LA095  2022-12-26   \n",
       "88886  20221227106497           Accident      WPR23LA075  2022-12-26   \n",
       "88887  20221227106498           Accident      WPR23LA076  2022-12-26   \n",
       "88888  20221230106513           Accident      ERA23LA097  2022-12-29   \n",
       "\n",
       "            Location        Country Latitude Longitude Airport.Code  \\\n",
       "88884  Annapolis, MD  United States      NaN       NaN          NaN   \n",
       "88885    Hampton, NH  United States      NaN       NaN          NaN   \n",
       "88886     Payson, AZ  United States  341525N  1112021W          PAN   \n",
       "88887     Morgan, UT  United States      NaN       NaN          NaN   \n",
       "88888     Athens, GA  United States      NaN       NaN          NaN   \n",
       "\n",
       "      Airport.Name  ... Purpose.of.flight         Air.carrier  \\\n",
       "88884          NaN  ...          Personal                 NaN   \n",
       "88885          NaN  ...               NaN                 NaN   \n",
       "88886       PAYSON  ...          Personal                 NaN   \n",
       "88887          NaN  ...          Personal  MC CESSNA 210N LLC   \n",
       "88888          NaN  ...          Personal                 NaN   \n",
       "\n",
       "      Total.Fatal.Injuries Total.Serious.Injuries Total.Minor.Injuries  \\\n",
       "88884                  0.0                    1.0                  0.0   \n",
       "88885                  0.0                    0.0                  0.0   \n",
       "88886                  0.0                    0.0                  0.0   \n",
       "88887                  0.0                    0.0                  0.0   \n",
       "88888                  0.0                    1.0                  0.0   \n",
       "\n",
       "      Total.Uninjured Weather.Condition  Broad.phase.of.flight Report.Status  \\\n",
       "88884             0.0               NaN                    NaN           NaN   \n",
       "88885             0.0               NaN                    NaN           NaN   \n",
       "88886             1.0               VMC                    NaN           NaN   \n",
       "88887             0.0               NaN                    NaN           NaN   \n",
       "88888             1.0               NaN                    NaN           NaN   \n",
       "\n",
       "      Publication.Date  \n",
       "88884       29-12-2022  \n",
       "88885              NaN  \n",
       "88886       27-12-2022  \n",
       "88887              NaN  \n",
       "88888       30-12-2022  \n",
       "\n",
       "[5 rows x 31 columns]"
      ]
     },
     "execution_count": 6,
     "metadata": {},
     "output_type": "execute_result"
    }
   ],
   "source": [
    "#Checking the first and last 5 rows of the dataframe respectively.\n",
    "df.head()\n",
    "df.tail()"
   ]
  },
  {
   "cell_type": "code",
   "execution_count": 7,
   "metadata": {},
   "outputs": [
    {
     "data": {
      "text/plain": [
       "Event.Id                      0\n",
       "Investigation.Type            0\n",
       "Accident.Number               0\n",
       "Event.Date                    0\n",
       "Location                     52\n",
       "Country                     226\n",
       "Latitude                  54507\n",
       "Longitude                 54516\n",
       "Airport.Code              38640\n",
       "Airport.Name              36099\n",
       "Injury.Severity            1000\n",
       "Aircraft.damage            3194\n",
       "Aircraft.Category         56602\n",
       "Registration.Number        1317\n",
       "Make                         63\n",
       "Model                        92\n",
       "Amateur.Built               102\n",
       "Number.of.Engines          6084\n",
       "Engine.Type                7077\n",
       "FAR.Description           56866\n",
       "Schedule                  76307\n",
       "Purpose.of.flight          6192\n",
       "Air.carrier               72241\n",
       "Total.Fatal.Injuries      11401\n",
       "Total.Serious.Injuries    12510\n",
       "Total.Minor.Injuries      11933\n",
       "Total.Uninjured            5912\n",
       "Weather.Condition          4492\n",
       "Broad.phase.of.flight     27165\n",
       "Report.Status              6381\n",
       "Publication.Date          13771\n",
       "dtype: int64"
      ]
     },
     "execution_count": 7,
     "metadata": {},
     "output_type": "execute_result"
    }
   ],
   "source": [
    "#checking for missing values in the dataframe\n",
    "missing_values=df.isna().sum()\n",
    "missing_values\n",
    "\n",
    "#df has missing values except in the first four columns."
   ]
  },
  {
   "cell_type": "code",
   "execution_count": 8,
   "metadata": {},
   "outputs": [
    {
     "data": {
      "text/plain": [
       "Index(['Event.Id', 'Investigation.Type', 'Accident.Number', 'Event.Date',\n",
       "       'Location', 'Country', 'Latitude', 'Longitude', 'Airport.Code',\n",
       "       'Airport.Name', 'Injury.Severity', 'Aircraft.damage',\n",
       "       'Aircraft.Category', 'Registration.Number', 'Make', 'Model',\n",
       "       'Amateur.Built', 'Number.of.Engines', 'Engine.Type', 'FAR.Description',\n",
       "       'Schedule', 'Purpose.of.flight', 'Air.carrier', 'Total.Fatal.Injuries',\n",
       "       'Total.Serious.Injuries', 'Total.Minor.Injuries', 'Total.Uninjured',\n",
       "       'Weather.Condition', 'Broad.phase.of.flight', 'Report.Status',\n",
       "       'Publication.Date'],\n",
       "      dtype='object')"
      ]
     },
     "execution_count": 8,
     "metadata": {},
     "output_type": "execute_result"
    }
   ],
   "source": [
    "#checking fo column names\n",
    "df.columns"
   ]
  },
  {
   "cell_type": "markdown",
   "metadata": {},
   "source": [
    "The dataframe contains 88889 variables(rows)and 31 observations(columns).It also contains missing values. "
   ]
  },
  {
   "cell_type": "markdown",
   "metadata": {},
   "source": [
    "## 2.1 DATA ANALYSIS"
   ]
  },
  {
   "cell_type": "markdown",
   "metadata": {},
   "source": [
    "### 2.1.1 Data cleaning "
   ]
  },
  {
   "cell_type": "code",
   "execution_count": 9,
   "metadata": {},
   "outputs": [
    {
     "name": "stdout",
     "output_type": "stream",
     "text": [
      "['Event.Date', 'Country', 'Injury.Severity', 'Location', 'Aircraft.damage', 'Make', 'Model', 'Amateur.Built', 'Number.of.Engines', 'Engine.Type', 'Purpose.of.flight', 'Total.Fatal.Injuries', 'Total.Uninjured', 'Weather.Condition', 'Broad.phase.of.flight']\n"
     ]
    }
   ],
   "source": [
    "#relevant columns for analysis.\n",
    "relevant_columns = ['Event.Date', 'Country', 'Injury.Severity','Location',\n",
    "           'Aircraft.damage','Make','Model','Amateur.Built','Number.of.Engines',\n",
    "            'Engine.Type','Purpose.of.flight','Total.Fatal.Injuries','Total.Uninjured','Weather.Condition','Broad.phase.of.flight']\n",
    "print(relevant_columns)"
   ]
  },
  {
   "cell_type": "code",
   "execution_count": 10,
   "metadata": {},
   "outputs": [
    {
     "data": {
      "text/plain": [
       "(88889, 15)"
      ]
     },
     "execution_count": 10,
     "metadata": {},
     "output_type": "execute_result"
    }
   ],
   "source": [
    "#creating a new dataframe with onlythe relevant columns.\n",
    "df_relevant=df[relevant_columns]\n",
    "#confirming the shape of our new data frame.\n",
    "df_relevant.shape\n",
    "#our new data frame contains 15 columns."
   ]
  },
  {
   "cell_type": "code",
   "execution_count": 11,
   "metadata": {},
   "outputs": [
    {
     "data": {
      "text/plain": [
       "Index(['Event Date', 'Country', 'Injury Severity', 'Location',\n",
       "       'Aircraft Damage', 'Make', 'Model', 'Amateur Built',\n",
       "       'Number Of Engines', 'Engine Type', 'Purpose Of Flight',\n",
       "       'Total Fatal Injuries', 'Total Uninjured', 'Weather Condition',\n",
       "       'Broad Phase Of Flight'],\n",
       "      dtype='object')"
      ]
     },
     "execution_count": 11,
     "metadata": {},
     "output_type": "execute_result"
    }
   ],
   "source": [
    "#removing the dot and stripping the whitespaces from the column names.\n",
    "df_relevant.columns = df_relevant.columns.str.replace('.', ' ', regex=False).str.strip().str.title()\n",
    "df_relevant.columns\n"
   ]
  },
  {
   "cell_type": "code",
   "execution_count": 12,
   "metadata": {},
   "outputs": [
    {
     "data": {
      "text/html": [
       "<div>\n",
       "<style scoped>\n",
       "    .dataframe tbody tr th:only-of-type {\n",
       "        vertical-align: middle;\n",
       "    }\n",
       "\n",
       "    .dataframe tbody tr th {\n",
       "        vertical-align: top;\n",
       "    }\n",
       "\n",
       "    .dataframe thead th {\n",
       "        text-align: right;\n",
       "    }\n",
       "</style>\n",
       "<table border=\"1\" class=\"dataframe\">\n",
       "  <thead>\n",
       "    <tr style=\"text-align: right;\">\n",
       "      <th></th>\n",
       "      <th>Event Date</th>\n",
       "      <th>Country</th>\n",
       "      <th>Injury Severity</th>\n",
       "      <th>Location</th>\n",
       "      <th>Aircraft Damage</th>\n",
       "      <th>Make</th>\n",
       "      <th>Model</th>\n",
       "      <th>Amateur Built</th>\n",
       "      <th>Number Of Engines</th>\n",
       "      <th>Engine Type</th>\n",
       "      <th>Purpose Of Flight</th>\n",
       "      <th>Total Fatal Injuries</th>\n",
       "      <th>Total Uninjured</th>\n",
       "      <th>Weather Condition</th>\n",
       "      <th>Broad Phase Of Flight</th>\n",
       "    </tr>\n",
       "  </thead>\n",
       "  <tbody>\n",
       "    <tr>\n",
       "      <th>0</th>\n",
       "      <td>1948-10-24</td>\n",
       "      <td>United States</td>\n",
       "      <td>Fatal(2)</td>\n",
       "      <td>MOOSE CREEK, ID</td>\n",
       "      <td>Destroyed</td>\n",
       "      <td>Stinson</td>\n",
       "      <td>108-3</td>\n",
       "      <td>No</td>\n",
       "      <td>1.0</td>\n",
       "      <td>Reciprocating</td>\n",
       "      <td>Personal</td>\n",
       "      <td>2.0</td>\n",
       "      <td>0.0</td>\n",
       "      <td>UNK</td>\n",
       "      <td>Cruise</td>\n",
       "    </tr>\n",
       "    <tr>\n",
       "      <th>1</th>\n",
       "      <td>1962-07-19</td>\n",
       "      <td>United States</td>\n",
       "      <td>Fatal(4)</td>\n",
       "      <td>BRIDGEPORT, CA</td>\n",
       "      <td>Destroyed</td>\n",
       "      <td>Piper</td>\n",
       "      <td>PA24-180</td>\n",
       "      <td>No</td>\n",
       "      <td>1.0</td>\n",
       "      <td>Reciprocating</td>\n",
       "      <td>Personal</td>\n",
       "      <td>4.0</td>\n",
       "      <td>0.0</td>\n",
       "      <td>UNK</td>\n",
       "      <td>Unknown</td>\n",
       "    </tr>\n",
       "    <tr>\n",
       "      <th>2</th>\n",
       "      <td>1974-08-30</td>\n",
       "      <td>United States</td>\n",
       "      <td>Fatal(3)</td>\n",
       "      <td>Saltville, VA</td>\n",
       "      <td>Destroyed</td>\n",
       "      <td>Cessna</td>\n",
       "      <td>172M</td>\n",
       "      <td>No</td>\n",
       "      <td>1.0</td>\n",
       "      <td>Reciprocating</td>\n",
       "      <td>Personal</td>\n",
       "      <td>3.0</td>\n",
       "      <td>NaN</td>\n",
       "      <td>IMC</td>\n",
       "      <td>Cruise</td>\n",
       "    </tr>\n",
       "    <tr>\n",
       "      <th>3</th>\n",
       "      <td>1977-06-19</td>\n",
       "      <td>United States</td>\n",
       "      <td>Fatal(2)</td>\n",
       "      <td>EUREKA, CA</td>\n",
       "      <td>Destroyed</td>\n",
       "      <td>Rockwell</td>\n",
       "      <td>112</td>\n",
       "      <td>No</td>\n",
       "      <td>1.0</td>\n",
       "      <td>Reciprocating</td>\n",
       "      <td>Personal</td>\n",
       "      <td>2.0</td>\n",
       "      <td>0.0</td>\n",
       "      <td>IMC</td>\n",
       "      <td>Cruise</td>\n",
       "    </tr>\n",
       "    <tr>\n",
       "      <th>4</th>\n",
       "      <td>1979-08-02</td>\n",
       "      <td>United States</td>\n",
       "      <td>Fatal(1)</td>\n",
       "      <td>Canton, OH</td>\n",
       "      <td>Destroyed</td>\n",
       "      <td>Cessna</td>\n",
       "      <td>501</td>\n",
       "      <td>No</td>\n",
       "      <td>NaN</td>\n",
       "      <td>NaN</td>\n",
       "      <td>Personal</td>\n",
       "      <td>1.0</td>\n",
       "      <td>0.0</td>\n",
       "      <td>VMC</td>\n",
       "      <td>Approach</td>\n",
       "    </tr>\n",
       "  </tbody>\n",
       "</table>\n",
       "</div>"
      ],
      "text/plain": [
       "   Event Date        Country Injury Severity         Location Aircraft Damage  \\\n",
       "0  1948-10-24  United States        Fatal(2)  MOOSE CREEK, ID       Destroyed   \n",
       "1  1962-07-19  United States        Fatal(4)   BRIDGEPORT, CA       Destroyed   \n",
       "2  1974-08-30  United States        Fatal(3)    Saltville, VA       Destroyed   \n",
       "3  1977-06-19  United States        Fatal(2)       EUREKA, CA       Destroyed   \n",
       "4  1979-08-02  United States        Fatal(1)       Canton, OH       Destroyed   \n",
       "\n",
       "       Make     Model Amateur Built  Number Of Engines    Engine Type  \\\n",
       "0   Stinson     108-3            No                1.0  Reciprocating   \n",
       "1     Piper  PA24-180            No                1.0  Reciprocating   \n",
       "2    Cessna      172M            No                1.0  Reciprocating   \n",
       "3  Rockwell       112            No                1.0  Reciprocating   \n",
       "4    Cessna       501            No                NaN            NaN   \n",
       "\n",
       "  Purpose Of Flight  Total Fatal Injuries  Total Uninjured Weather Condition  \\\n",
       "0          Personal                   2.0              0.0               UNK   \n",
       "1          Personal                   4.0              0.0               UNK   \n",
       "2          Personal                   3.0              NaN               IMC   \n",
       "3          Personal                   2.0              0.0               IMC   \n",
       "4          Personal                   1.0              0.0               VMC   \n",
       "\n",
       "  Broad Phase Of Flight  \n",
       "0                Cruise  \n",
       "1               Unknown  \n",
       "2                Cruise  \n",
       "3                Cruise  \n",
       "4              Approach  "
      ]
     },
     "execution_count": 12,
     "metadata": {},
     "output_type": "execute_result"
    }
   ],
   "source": [
    "#printing the first 5 rows of our dataframe\n",
    "df_relevant.head()"
   ]
  },
  {
   "cell_type": "code",
   "execution_count": 13,
   "metadata": {},
   "outputs": [
    {
     "name": "stdout",
     "output_type": "stream",
     "text": [
      "<class 'pandas.core.frame.DataFrame'>\n",
      "RangeIndex: 88889 entries, 0 to 88888\n",
      "Data columns (total 15 columns):\n",
      " #   Column                 Non-Null Count  Dtype  \n",
      "---  ------                 --------------  -----  \n",
      " 0   Event Date             88889 non-null  object \n",
      " 1   Country                88663 non-null  object \n",
      " 2   Injury Severity        87889 non-null  object \n",
      " 3   Location               88837 non-null  object \n",
      " 4   Aircraft Damage        85695 non-null  object \n",
      " 5   Make                   88826 non-null  object \n",
      " 6   Model                  88797 non-null  object \n",
      " 7   Amateur Built          88787 non-null  object \n",
      " 8   Number Of Engines      82805 non-null  float64\n",
      " 9   Engine Type            81812 non-null  object \n",
      " 10  Purpose Of Flight      82697 non-null  object \n",
      " 11  Total Fatal Injuries   77488 non-null  float64\n",
      " 12  Total Uninjured        82977 non-null  float64\n",
      " 13  Weather Condition      84397 non-null  object \n",
      " 14  Broad Phase Of Flight  61724 non-null  object \n",
      "dtypes: float64(3), object(12)\n",
      "memory usage: 10.2+ MB\n"
     ]
    }
   ],
   "source": [
    "df_relevant.info()"
   ]
  },
  {
   "cell_type": "code",
   "execution_count": null,
   "metadata": {},
   "outputs": [],
   "source": [
    "#filling the missing values with the approrpriate mean,median,mode\n",
    "df_relevant['Injury Severity'].fillna(df_relevant['Injury Severity'].mode()[0], inplace=True)\n",
    "df_relevant.dropna(subset=[\"Location\"],inplace=True)\n",
    "df_relevant.dropna(subset=[\"Country\"],inplace=True)\n",
    "df_relevant.dropna(subset=[\"Aircraft Damage\"],inplace=True)\n",
    "df_relevant.dropna(subset=[\"Engine Type\"],inplace=True)\n",
    "df_relevant['Broad Phase Of Flight'].fillna(df_relevant['Broad Phase Of Flight'].mode()[0], inplace=True)\n",
    "df_relevant['Total Fatal Injuries'].fillna(df_relevant['Total Fatal Injuries'].mode()[0], inplace=True)\n",
    "df_relevant=df_relevant.dropna()\n",
    "df_relevant.shape"
   ]
  },
  {
   "cell_type": "code",
   "execution_count": null,
   "metadata": {},
   "outputs": [],
   "source": [
    "our data frame now contains cleaned 65184rows x 15 columns."
   ]
  },
  {
   "cell_type": "code",
   "execution_count": 15,
   "metadata": {},
   "outputs": [
    {
     "data": {
      "text/plain": [
       "0        1948\n",
       "1        1962\n",
       "3        1977\n",
       "6        1981\n",
       "7        1982\n",
       "         ... \n",
       "88639    2022\n",
       "88647    2022\n",
       "88661    2022\n",
       "88735    2022\n",
       "88767    2022\n",
       "Name: Year, Length: 70667, dtype: object"
      ]
     },
     "execution_count": 15,
     "metadata": {},
     "output_type": "execute_result"
    }
   ],
   "source": [
    "#adding a column Year.Gives the year when the event occurred.\n",
    "df_relevant['Year'] = df_relevant['Event Date'].str[0:4]\n",
    "\n",
    "df_relevant[\"Year\"]"
   ]
  },
  {
   "cell_type": "code",
   "execution_count": 16,
   "metadata": {},
   "outputs": [],
   "source": [
    "#removing Event Date from the data frame.\n",
    "df_relevant.drop(columns=[\"Event Date\"],inplace=True)"
   ]
  },
  {
   "cell_type": "code",
   "execution_count": 17,
   "metadata": {},
   "outputs": [
    {
     "data": {
      "text/plain": [
       "pandas.core.series.Series"
      ]
     },
     "execution_count": 17,
     "metadata": {},
     "output_type": "execute_result"
    }
   ],
   "source": [
    "type(df_relevant[\"Year\"])"
   ]
  },
  {
   "cell_type": "code",
   "execution_count": 18,
   "metadata": {},
   "outputs": [],
   "source": [
    "#changing the Year to numeric type\n",
    "df_relevant['Year'] = pd.to_numeric(df_relevant['Year'], errors='coerce')"
   ]
  },
  {
   "cell_type": "markdown",
   "metadata": {},
   "source": [
    "Cleaning the columns"
   ]
  },
  {
   "cell_type": "code",
   "execution_count": 19,
   "metadata": {},
   "outputs": [],
   "source": [
    "#formatting the country columns\n",
    "df_relevant[\"Country\"]=df_relevant[\"Country\"].str.lower().str.title()"
   ]
  },
  {
   "cell_type": "code",
   "execution_count": 20,
   "metadata": {},
   "outputs": [
    {
     "data": {
      "text/plain": [
       "Non-Fatal      57655\n",
       "Fatal(1)        4514\n",
       "Fatal           2831\n",
       "Fatal(2)        2721\n",
       "Incident        1061\n",
       "Fatal(3)         817\n",
       "Fatal(4)         595\n",
       "Fatal(5)         139\n",
       "Fatal(6)         103\n",
       "Minor             69\n",
       "Fatal(7)          32\n",
       "Fatal(8)          31\n",
       "Serious           25\n",
       "Fatal(10)         10\n",
       "Fatal(14)          5\n",
       "Fatal(9)           5\n",
       "Fatal(11)          4\n",
       "Fatal(12)          3\n",
       "Fatal(25)          3\n",
       "Fatal(13)          3\n",
       "Fatal(34)          2\n",
       "Fatal(18)          2\n",
       "Fatal(70)          2\n",
       "Fatal(82)          2\n",
       "Fatal(17)          2\n",
       "Fatal(23)          2\n",
       "Unavailable        2\n",
       "Fatal(29)          2\n",
       "Fatal(87)          1\n",
       "Fatal(73)          1\n",
       "Fatal(270)         1\n",
       "Fatal(110)         1\n",
       "Fatal(27)          1\n",
       "Fatal(153)         1\n",
       "Fatal(135)         1\n",
       "Fatal(88)          1\n",
       "Fatal(31)          1\n",
       "Fatal(174)         1\n",
       "Fatal(68)          1\n",
       "Fatal(15)          1\n",
       "Fatal(37)          1\n",
       "Fatal(20)          1\n",
       "Fatal(132)         1\n",
       "Fatal(156)         1\n",
       "Fatal(230)         1\n",
       "Fatal(131)         1\n",
       "Fatal(144)         1\n",
       "Fatal(111)         1\n",
       "Fatal(43)          1\n",
       "Fatal(256)         1\n",
       "Fatal(28)          1\n",
       "Fatal(78)          1\n",
       "Fatal(47)          1\n",
       "Name: Injury Severity, dtype: int64"
      ]
     },
     "execution_count": 20,
     "metadata": {},
     "output_type": "execute_result"
    }
   ],
   "source": [
    "#dropping rows with the attribute\"availablein the injury severity column\n",
    "df_relevant.drop(df_relevant[df_relevant[\"Injury Severity\"] == 'Unavailable'].index)\n",
    "df_relevant[\"Injury Severity\"].value_counts()"
   ]
  },
  {
   "cell_type": "code",
   "execution_count": 21,
   "metadata": {},
   "outputs": [
    {
     "data": {
      "text/plain": [
       "0                  Stinson\n",
       "1                    Piper\n",
       "3                 Rockwell\n",
       "6                   Cessna\n",
       "7                   Cessna\n",
       "               ...        \n",
       "88639               Cessna\n",
       "88647               Cessna\n",
       "88661                Beech\n",
       "88735    Stephen J Hoffman\n",
       "88767             Luscombe\n",
       "Name: Make, Length: 70667, dtype: object"
      ]
     },
     "execution_count": 21,
     "metadata": {},
     "output_type": "execute_result"
    }
   ],
   "source": [
    "df_relevant[\"Make\"].str.lower().str.title()\n"
   ]
  },
  {
   "cell_type": "code",
   "execution_count": 22,
   "metadata": {},
   "outputs": [
    {
     "data": {
      "text/plain": [
       "0        Moose Creek, Id\n",
       "1         Bridgeport, Ca\n",
       "3             Eureka, Ca\n",
       "6             Cotton, Mn\n",
       "7            Pullman, Wa\n",
       "              ...       \n",
       "88639           Iola, Tx\n",
       "88647         Dacula, Ga\n",
       "88661        Ardmore, Ok\n",
       "88735        Houston, Tx\n",
       "88767     Bridgeport, Tx\n",
       "Name: Location, Length: 70667, dtype: object"
      ]
     },
     "execution_count": 22,
     "metadata": {},
     "output_type": "execute_result"
    }
   ],
   "source": [
    "#cleaning location\n",
    "df_relevant[\"Location\"].str.lower().str.title()\n"
   ]
  },
  {
   "cell_type": "code",
   "execution_count": 23,
   "metadata": {},
   "outputs": [
    {
     "data": {
      "text/html": [
       "<div>\n",
       "<style scoped>\n",
       "    .dataframe tbody tr th:only-of-type {\n",
       "        vertical-align: middle;\n",
       "    }\n",
       "\n",
       "    .dataframe tbody tr th {\n",
       "        vertical-align: top;\n",
       "    }\n",
       "\n",
       "    .dataframe thead th {\n",
       "        text-align: right;\n",
       "    }\n",
       "</style>\n",
       "<table border=\"1\" class=\"dataframe\">\n",
       "  <thead>\n",
       "    <tr style=\"text-align: right;\">\n",
       "      <th></th>\n",
       "      <th>Country</th>\n",
       "      <th>Injury Severity</th>\n",
       "      <th>Location</th>\n",
       "      <th>Aircraft Damage</th>\n",
       "      <th>Make</th>\n",
       "      <th>Model</th>\n",
       "      <th>Amateur Built</th>\n",
       "      <th>Number Of Engines</th>\n",
       "      <th>Engine Type</th>\n",
       "      <th>Purpose Of Flight</th>\n",
       "      <th>Total Fatal Injuries</th>\n",
       "      <th>Total Uninjured</th>\n",
       "      <th>Weather Condition</th>\n",
       "      <th>Broad Phase Of Flight</th>\n",
       "      <th>Year</th>\n",
       "    </tr>\n",
       "  </thead>\n",
       "  <tbody>\n",
       "    <tr>\n",
       "      <th>0</th>\n",
       "      <td>United States</td>\n",
       "      <td>Fatal(2)</td>\n",
       "      <td>MOOSE CREEK, ID</td>\n",
       "      <td>Destroyed</td>\n",
       "      <td>Stinson</td>\n",
       "      <td>108-3</td>\n",
       "      <td>No</td>\n",
       "      <td>1.0</td>\n",
       "      <td>Reciprocating</td>\n",
       "      <td>Personal</td>\n",
       "      <td>2.0</td>\n",
       "      <td>0.0</td>\n",
       "      <td>UNK</td>\n",
       "      <td>Cruise</td>\n",
       "      <td>1948</td>\n",
       "    </tr>\n",
       "    <tr>\n",
       "      <th>1</th>\n",
       "      <td>United States</td>\n",
       "      <td>Fatal(4)</td>\n",
       "      <td>BRIDGEPORT, CA</td>\n",
       "      <td>Destroyed</td>\n",
       "      <td>Piper</td>\n",
       "      <td>PA24-180</td>\n",
       "      <td>No</td>\n",
       "      <td>1.0</td>\n",
       "      <td>Reciprocating</td>\n",
       "      <td>Personal</td>\n",
       "      <td>4.0</td>\n",
       "      <td>0.0</td>\n",
       "      <td>UNK</td>\n",
       "      <td>Unknown</td>\n",
       "      <td>1962</td>\n",
       "    </tr>\n",
       "    <tr>\n",
       "      <th>3</th>\n",
       "      <td>United States</td>\n",
       "      <td>Fatal(2)</td>\n",
       "      <td>EUREKA, CA</td>\n",
       "      <td>Destroyed</td>\n",
       "      <td>Rockwell</td>\n",
       "      <td>112</td>\n",
       "      <td>No</td>\n",
       "      <td>1.0</td>\n",
       "      <td>Reciprocating</td>\n",
       "      <td>Personal</td>\n",
       "      <td>2.0</td>\n",
       "      <td>0.0</td>\n",
       "      <td>IMC</td>\n",
       "      <td>Cruise</td>\n",
       "      <td>1977</td>\n",
       "    </tr>\n",
       "    <tr>\n",
       "      <th>6</th>\n",
       "      <td>United States</td>\n",
       "      <td>Fatal(4)</td>\n",
       "      <td>COTTON, MN</td>\n",
       "      <td>Destroyed</td>\n",
       "      <td>Cessna</td>\n",
       "      <td>180</td>\n",
       "      <td>No</td>\n",
       "      <td>1.0</td>\n",
       "      <td>Reciprocating</td>\n",
       "      <td>Personal</td>\n",
       "      <td>4.0</td>\n",
       "      <td>0.0</td>\n",
       "      <td>IMC</td>\n",
       "      <td>Unknown</td>\n",
       "      <td>1981</td>\n",
       "    </tr>\n",
       "    <tr>\n",
       "      <th>7</th>\n",
       "      <td>United States</td>\n",
       "      <td>Non-Fatal</td>\n",
       "      <td>PULLMAN, WA</td>\n",
       "      <td>Substantial</td>\n",
       "      <td>Cessna</td>\n",
       "      <td>140</td>\n",
       "      <td>No</td>\n",
       "      <td>1.0</td>\n",
       "      <td>Reciprocating</td>\n",
       "      <td>Personal</td>\n",
       "      <td>0.0</td>\n",
       "      <td>2.0</td>\n",
       "      <td>VMC</td>\n",
       "      <td>Takeoff</td>\n",
       "      <td>1982</td>\n",
       "    </tr>\n",
       "    <tr>\n",
       "      <th>...</th>\n",
       "      <td>...</td>\n",
       "      <td>...</td>\n",
       "      <td>...</td>\n",
       "      <td>...</td>\n",
       "      <td>...</td>\n",
       "      <td>...</td>\n",
       "      <td>...</td>\n",
       "      <td>...</td>\n",
       "      <td>...</td>\n",
       "      <td>...</td>\n",
       "      <td>...</td>\n",
       "      <td>...</td>\n",
       "      <td>...</td>\n",
       "      <td>...</td>\n",
       "      <td>...</td>\n",
       "    </tr>\n",
       "    <tr>\n",
       "      <th>88639</th>\n",
       "      <td>United States</td>\n",
       "      <td>Non-Fatal</td>\n",
       "      <td>Iola, TX</td>\n",
       "      <td>Substantial</td>\n",
       "      <td>CESSNA</td>\n",
       "      <td>150</td>\n",
       "      <td>No</td>\n",
       "      <td>1.0</td>\n",
       "      <td>Reciprocating</td>\n",
       "      <td>Personal</td>\n",
       "      <td>0.0</td>\n",
       "      <td>1.0</td>\n",
       "      <td>VMC</td>\n",
       "      <td>Landing</td>\n",
       "      <td>2022</td>\n",
       "    </tr>\n",
       "    <tr>\n",
       "      <th>88647</th>\n",
       "      <td>United States</td>\n",
       "      <td>Non-Fatal</td>\n",
       "      <td>Dacula, GA</td>\n",
       "      <td>Substantial</td>\n",
       "      <td>CESSNA</td>\n",
       "      <td>177RG</td>\n",
       "      <td>No</td>\n",
       "      <td>1.0</td>\n",
       "      <td>Reciprocating</td>\n",
       "      <td>Personal</td>\n",
       "      <td>0.0</td>\n",
       "      <td>2.0</td>\n",
       "      <td>VMC</td>\n",
       "      <td>Landing</td>\n",
       "      <td>2022</td>\n",
       "    </tr>\n",
       "    <tr>\n",
       "      <th>88661</th>\n",
       "      <td>United States</td>\n",
       "      <td>Non-Fatal</td>\n",
       "      <td>Ardmore, OK</td>\n",
       "      <td>Substantial</td>\n",
       "      <td>BEECH</td>\n",
       "      <td>B-60</td>\n",
       "      <td>No</td>\n",
       "      <td>2.0</td>\n",
       "      <td>Reciprocating</td>\n",
       "      <td>Personal</td>\n",
       "      <td>0.0</td>\n",
       "      <td>1.0</td>\n",
       "      <td>VMC</td>\n",
       "      <td>Landing</td>\n",
       "      <td>2022</td>\n",
       "    </tr>\n",
       "    <tr>\n",
       "      <th>88735</th>\n",
       "      <td>United States</td>\n",
       "      <td>Minor</td>\n",
       "      <td>Houston, TX</td>\n",
       "      <td>Substantial</td>\n",
       "      <td>STEPHEN J HOFFMAN</td>\n",
       "      <td>MS-500</td>\n",
       "      <td>Yes</td>\n",
       "      <td>1.0</td>\n",
       "      <td>Reciprocating</td>\n",
       "      <td>ASHO</td>\n",
       "      <td>0.0</td>\n",
       "      <td>0.0</td>\n",
       "      <td>VMC</td>\n",
       "      <td>Landing</td>\n",
       "      <td>2022</td>\n",
       "    </tr>\n",
       "    <tr>\n",
       "      <th>88767</th>\n",
       "      <td>United States</td>\n",
       "      <td>Non-Fatal</td>\n",
       "      <td>Bridgeport, TX</td>\n",
       "      <td>Substantial</td>\n",
       "      <td>LUSCOMBE</td>\n",
       "      <td>8E</td>\n",
       "      <td>No</td>\n",
       "      <td>1.0</td>\n",
       "      <td>Reciprocating</td>\n",
       "      <td>Personal</td>\n",
       "      <td>0.0</td>\n",
       "      <td>2.0</td>\n",
       "      <td>VMC</td>\n",
       "      <td>Landing</td>\n",
       "      <td>2022</td>\n",
       "    </tr>\n",
       "  </tbody>\n",
       "</table>\n",
       "<p>70667 rows × 15 columns</p>\n",
       "</div>"
      ],
      "text/plain": [
       "             Country Injury Severity         Location Aircraft Damage  \\\n",
       "0      United States        Fatal(2)  MOOSE CREEK, ID       Destroyed   \n",
       "1      United States        Fatal(4)   BRIDGEPORT, CA       Destroyed   \n",
       "3      United States        Fatal(2)       EUREKA, CA       Destroyed   \n",
       "6      United States        Fatal(4)       COTTON, MN       Destroyed   \n",
       "7      United States       Non-Fatal      PULLMAN, WA     Substantial   \n",
       "...              ...             ...              ...             ...   \n",
       "88639  United States       Non-Fatal         Iola, TX     Substantial   \n",
       "88647  United States       Non-Fatal       Dacula, GA     Substantial   \n",
       "88661  United States       Non-Fatal      Ardmore, OK     Substantial   \n",
       "88735  United States           Minor      Houston, TX     Substantial   \n",
       "88767  United States       Non-Fatal   Bridgeport, TX     Substantial   \n",
       "\n",
       "                    Make     Model Amateur Built  Number Of Engines  \\\n",
       "0                Stinson     108-3            No                1.0   \n",
       "1                  Piper  PA24-180            No                1.0   \n",
       "3               Rockwell       112            No                1.0   \n",
       "6                 Cessna       180            No                1.0   \n",
       "7                 Cessna       140            No                1.0   \n",
       "...                  ...       ...           ...                ...   \n",
       "88639             CESSNA       150            No                1.0   \n",
       "88647             CESSNA     177RG            No                1.0   \n",
       "88661              BEECH      B-60            No                2.0   \n",
       "88735  STEPHEN J HOFFMAN    MS-500           Yes                1.0   \n",
       "88767           LUSCOMBE        8E            No                1.0   \n",
       "\n",
       "         Engine Type Purpose Of Flight  Total Fatal Injuries  Total Uninjured  \\\n",
       "0      Reciprocating          Personal                   2.0              0.0   \n",
       "1      Reciprocating          Personal                   4.0              0.0   \n",
       "3      Reciprocating          Personal                   2.0              0.0   \n",
       "6      Reciprocating          Personal                   4.0              0.0   \n",
       "7      Reciprocating          Personal                   0.0              2.0   \n",
       "...              ...               ...                   ...              ...   \n",
       "88639  Reciprocating          Personal                   0.0              1.0   \n",
       "88647  Reciprocating          Personal                   0.0              2.0   \n",
       "88661  Reciprocating          Personal                   0.0              1.0   \n",
       "88735  Reciprocating              ASHO                   0.0              0.0   \n",
       "88767  Reciprocating          Personal                   0.0              2.0   \n",
       "\n",
       "      Weather Condition Broad Phase Of Flight  Year  \n",
       "0                   UNK                Cruise  1948  \n",
       "1                   UNK               Unknown  1962  \n",
       "3                   IMC                Cruise  1977  \n",
       "6                   IMC               Unknown  1981  \n",
       "7                   VMC               Takeoff  1982  \n",
       "...                 ...                   ...   ...  \n",
       "88639               VMC               Landing  2022  \n",
       "88647               VMC               Landing  2022  \n",
       "88661               VMC               Landing  2022  \n",
       "88735               VMC               Landing  2022  \n",
       "88767               VMC               Landing  2022  \n",
       "\n",
       "[70667 rows x 15 columns]"
      ]
     },
     "execution_count": 23,
     "metadata": {},
     "output_type": "execute_result"
    }
   ],
   "source": [
    "#checking for the values in the relevant column\n",
    "df_relevant[\"Purpose Of Flight\"].unique()\n",
    "df_relevant"
   ]
  },
  {
   "cell_type": "code",
   "execution_count": 24,
   "metadata": {},
   "outputs": [],
   "source": [
    "#dropping columns with the value unknown in th purpose of flight column\n",
    "df_relevant=df_relevant.drop(df_relevant[df_relevant[\"Purpose Of Flight\"] == 'Unknown'].index)\n"
   ]
  },
  {
   "cell_type": "code",
   "execution_count": 25,
   "metadata": {},
   "outputs": [
    {
     "data": {
      "text/plain": [
       "Personal                     42755\n",
       "Instructional                 9497\n",
       "Aerial Application            4254\n",
       "Business                      3536\n",
       "Positioning                   1328\n",
       "Other Work Use                 954\n",
       "Ferry                          715\n",
       "Aerial Observation             619\n",
       "Public Aircraft                573\n",
       "Executive/corporate            456\n",
       "Flight Test                    270\n",
       "Skydiving                      126\n",
       "External Load                   83\n",
       "Banner Tow                      81\n",
       "Public Aircraft - Federal       75\n",
       "Public Aircraft - Local         64\n",
       "Air Race show                   57\n",
       "Public Aircraft - State         54\n",
       "Glider Tow                      34\n",
       "Firefighting                    18\n",
       "Air Race/show                   15\n",
       "Air Drop                         7\n",
       "PUBS                             2\n",
       "ASHO                             2\n",
       "PUBL                             1\n",
       "Name: Purpose Of Flight, dtype: int64"
      ]
     },
     "execution_count": 25,
     "metadata": {},
     "output_type": "execute_result"
    }
   ],
   "source": [
    "df_relevant[\"Purpose Of Flight\"].value_counts()"
   ]
  },
  {
   "cell_type": "code",
   "execution_count": 26,
   "metadata": {},
   "outputs": [
    {
     "data": {
      "text/plain": [
       "VMC    61096\n",
       "IMC     3954\n",
       "UNK      462\n",
       "Unk       64\n",
       "Name: Weather Condition, dtype: int64"
      ]
     },
     "execution_count": 26,
     "metadata": {},
     "output_type": "execute_result"
    }
   ],
   "source": [
    "#checking for the Weather condition column\n",
    "df_relevant[\"Weather Condition\"].value_counts()"
   ]
  },
  {
   "cell_type": "code",
   "execution_count": 27,
   "metadata": {},
   "outputs": [
    {
     "data": {
      "text/plain": [
       "0         Cruise\n",
       "1        Unknown\n",
       "3         Cruise\n",
       "6        Unknown\n",
       "7        Takeoff\n",
       "          ...   \n",
       "88639    Landing\n",
       "88647    Landing\n",
       "88661    Landing\n",
       "88735    Landing\n",
       "88767    Landing\n",
       "Name: Broad Phase Of Flight, Length: 65576, dtype: object"
      ]
     },
     "execution_count": 27,
     "metadata": {},
     "output_type": "execute_result"
    }
   ],
   "source": [
    "df_relevant[\"Broad Phase Of Flight\"]"
   ]
  },
  {
   "cell_type": "code",
   "execution_count": 28,
   "metadata": {},
   "outputs": [],
   "source": [
    "#dropping all columns with unknown\n",
    "df_relevant=df_relevant.drop(df_relevant[df_relevant[\"Broad Phase Of Flight\"] == 'Unknown'].index)\n"
   ]
  },
  {
   "cell_type": "code",
   "execution_count": 29,
   "metadata": {},
   "outputs": [
    {
     "data": {
      "text/plain": [
       "Landing        30385\n",
       "Takeoff         9866\n",
       "Cruise          7959\n",
       "Maneuvering     6254\n",
       "Approach        4847\n",
       "Climb           1414\n",
       "Taxi            1401\n",
       "Descent         1323\n",
       "Go-around       1142\n",
       "Standing         515\n",
       "Other             78\n",
       "Name: Broad Phase Of Flight, dtype: int64"
      ]
     },
     "execution_count": 29,
     "metadata": {},
     "output_type": "execute_result"
    }
   ],
   "source": [
    "df_relevant[\"Broad Phase Of Flight\"].value_counts()"
   ]
  },
  {
   "cell_type": "code",
   "execution_count": 30,
   "metadata": {},
   "outputs": [
    {
     "data": {
      "text/plain": [
       "(65184, 15)"
      ]
     },
     "execution_count": 30,
     "metadata": {},
     "output_type": "execute_result"
    }
   ],
   "source": [
    "df_relevant.shape"
   ]
  },
  {
   "cell_type": "code",
   "execution_count": 31,
   "metadata": {},
   "outputs": [
    {
     "data": {
      "text/plain": [
       "0        False\n",
       "3        False\n",
       "7        False\n",
       "8        False\n",
       "9        False\n",
       "         ...  \n",
       "88639    False\n",
       "88647    False\n",
       "88661    False\n",
       "88735    False\n",
       "88767    False\n",
       "Length: 65184, dtype: bool"
      ]
     },
     "execution_count": 31,
     "metadata": {},
     "output_type": "execute_result"
    }
   ],
   "source": [
    "#checking for duplicates\n",
    "duplicates=df_relevant.duplicated()\n",
    "duplicates\n",
    "#our data does not have duplicate rows."
   ]
  },
  {
   "cell_type": "markdown",
   "metadata": {},
   "source": [
    "our cleaned data contains 65184 rows and 15 columns"
   ]
  },
  {
   "cell_type": "markdown",
   "metadata": {},
   "source": [
    "### Creating a csv file for the cleaned data"
   ]
  },
  {
   "cell_type": "code",
   "execution_count": 32,
   "metadata": {},
   "outputs": [],
   "source": [
    "df_relevant.to_csv('cleaned2_AviationData.csv', index=False)"
   ]
  },
  {
   "cell_type": "code",
   "execution_count": 33,
   "metadata": {
    "scrolled": true
   },
   "outputs": [
    {
     "data": {
      "text/html": [
       "<div>\n",
       "<style scoped>\n",
       "    .dataframe tbody tr th:only-of-type {\n",
       "        vertical-align: middle;\n",
       "    }\n",
       "\n",
       "    .dataframe tbody tr th {\n",
       "        vertical-align: top;\n",
       "    }\n",
       "\n",
       "    .dataframe thead th {\n",
       "        text-align: right;\n",
       "    }\n",
       "</style>\n",
       "<table border=\"1\" class=\"dataframe\">\n",
       "  <thead>\n",
       "    <tr style=\"text-align: right;\">\n",
       "      <th></th>\n",
       "      <th>Country</th>\n",
       "      <th>Injury Severity</th>\n",
       "      <th>Location</th>\n",
       "      <th>Aircraft Damage</th>\n",
       "      <th>Make</th>\n",
       "      <th>Model</th>\n",
       "      <th>Amateur Built</th>\n",
       "      <th>Number Of Engines</th>\n",
       "      <th>Engine Type</th>\n",
       "      <th>Purpose Of Flight</th>\n",
       "      <th>Total Fatal Injuries</th>\n",
       "      <th>Total Uninjured</th>\n",
       "      <th>Weather Condition</th>\n",
       "      <th>Broad Phase Of Flight</th>\n",
       "      <th>Year</th>\n",
       "    </tr>\n",
       "  </thead>\n",
       "  <tbody>\n",
       "    <tr>\n",
       "      <th>0</th>\n",
       "      <td>United States</td>\n",
       "      <td>Fatal(2)</td>\n",
       "      <td>MOOSE CREEK, ID</td>\n",
       "      <td>Destroyed</td>\n",
       "      <td>Stinson</td>\n",
       "      <td>108-3</td>\n",
       "      <td>No</td>\n",
       "      <td>1.0</td>\n",
       "      <td>Reciprocating</td>\n",
       "      <td>Personal</td>\n",
       "      <td>2.0</td>\n",
       "      <td>0.0</td>\n",
       "      <td>UNK</td>\n",
       "      <td>Cruise</td>\n",
       "      <td>1948</td>\n",
       "    </tr>\n",
       "    <tr>\n",
       "      <th>1</th>\n",
       "      <td>United States</td>\n",
       "      <td>Fatal(2)</td>\n",
       "      <td>EUREKA, CA</td>\n",
       "      <td>Destroyed</td>\n",
       "      <td>Rockwell</td>\n",
       "      <td>112</td>\n",
       "      <td>No</td>\n",
       "      <td>1.0</td>\n",
       "      <td>Reciprocating</td>\n",
       "      <td>Personal</td>\n",
       "      <td>2.0</td>\n",
       "      <td>0.0</td>\n",
       "      <td>IMC</td>\n",
       "      <td>Cruise</td>\n",
       "      <td>1977</td>\n",
       "    </tr>\n",
       "    <tr>\n",
       "      <th>2</th>\n",
       "      <td>United States</td>\n",
       "      <td>Non-Fatal</td>\n",
       "      <td>PULLMAN, WA</td>\n",
       "      <td>Substantial</td>\n",
       "      <td>Cessna</td>\n",
       "      <td>140</td>\n",
       "      <td>No</td>\n",
       "      <td>1.0</td>\n",
       "      <td>Reciprocating</td>\n",
       "      <td>Personal</td>\n",
       "      <td>0.0</td>\n",
       "      <td>2.0</td>\n",
       "      <td>VMC</td>\n",
       "      <td>Takeoff</td>\n",
       "      <td>1982</td>\n",
       "    </tr>\n",
       "    <tr>\n",
       "      <th>3</th>\n",
       "      <td>United States</td>\n",
       "      <td>Non-Fatal</td>\n",
       "      <td>EAST HANOVER, NJ</td>\n",
       "      <td>Substantial</td>\n",
       "      <td>Cessna</td>\n",
       "      <td>401B</td>\n",
       "      <td>No</td>\n",
       "      <td>2.0</td>\n",
       "      <td>Reciprocating</td>\n",
       "      <td>Business</td>\n",
       "      <td>0.0</td>\n",
       "      <td>2.0</td>\n",
       "      <td>IMC</td>\n",
       "      <td>Landing</td>\n",
       "      <td>1982</td>\n",
       "    </tr>\n",
       "    <tr>\n",
       "      <th>4</th>\n",
       "      <td>United States</td>\n",
       "      <td>Non-Fatal</td>\n",
       "      <td>JACKSONVILLE, FL</td>\n",
       "      <td>Substantial</td>\n",
       "      <td>North American</td>\n",
       "      <td>NAVION L-17B</td>\n",
       "      <td>No</td>\n",
       "      <td>1.0</td>\n",
       "      <td>Reciprocating</td>\n",
       "      <td>Personal</td>\n",
       "      <td>0.0</td>\n",
       "      <td>0.0</td>\n",
       "      <td>IMC</td>\n",
       "      <td>Cruise</td>\n",
       "      <td>1982</td>\n",
       "    </tr>\n",
       "    <tr>\n",
       "      <th>...</th>\n",
       "      <td>...</td>\n",
       "      <td>...</td>\n",
       "      <td>...</td>\n",
       "      <td>...</td>\n",
       "      <td>...</td>\n",
       "      <td>...</td>\n",
       "      <td>...</td>\n",
       "      <td>...</td>\n",
       "      <td>...</td>\n",
       "      <td>...</td>\n",
       "      <td>...</td>\n",
       "      <td>...</td>\n",
       "      <td>...</td>\n",
       "      <td>...</td>\n",
       "      <td>...</td>\n",
       "    </tr>\n",
       "    <tr>\n",
       "      <th>65179</th>\n",
       "      <td>United States</td>\n",
       "      <td>Non-Fatal</td>\n",
       "      <td>Iola, TX</td>\n",
       "      <td>Substantial</td>\n",
       "      <td>CESSNA</td>\n",
       "      <td>150</td>\n",
       "      <td>No</td>\n",
       "      <td>1.0</td>\n",
       "      <td>Reciprocating</td>\n",
       "      <td>Personal</td>\n",
       "      <td>0.0</td>\n",
       "      <td>1.0</td>\n",
       "      <td>VMC</td>\n",
       "      <td>Landing</td>\n",
       "      <td>2022</td>\n",
       "    </tr>\n",
       "    <tr>\n",
       "      <th>65180</th>\n",
       "      <td>United States</td>\n",
       "      <td>Non-Fatal</td>\n",
       "      <td>Dacula, GA</td>\n",
       "      <td>Substantial</td>\n",
       "      <td>CESSNA</td>\n",
       "      <td>177RG</td>\n",
       "      <td>No</td>\n",
       "      <td>1.0</td>\n",
       "      <td>Reciprocating</td>\n",
       "      <td>Personal</td>\n",
       "      <td>0.0</td>\n",
       "      <td>2.0</td>\n",
       "      <td>VMC</td>\n",
       "      <td>Landing</td>\n",
       "      <td>2022</td>\n",
       "    </tr>\n",
       "    <tr>\n",
       "      <th>65181</th>\n",
       "      <td>United States</td>\n",
       "      <td>Non-Fatal</td>\n",
       "      <td>Ardmore, OK</td>\n",
       "      <td>Substantial</td>\n",
       "      <td>BEECH</td>\n",
       "      <td>B-60</td>\n",
       "      <td>No</td>\n",
       "      <td>2.0</td>\n",
       "      <td>Reciprocating</td>\n",
       "      <td>Personal</td>\n",
       "      <td>0.0</td>\n",
       "      <td>1.0</td>\n",
       "      <td>VMC</td>\n",
       "      <td>Landing</td>\n",
       "      <td>2022</td>\n",
       "    </tr>\n",
       "    <tr>\n",
       "      <th>65182</th>\n",
       "      <td>United States</td>\n",
       "      <td>Minor</td>\n",
       "      <td>Houston, TX</td>\n",
       "      <td>Substantial</td>\n",
       "      <td>STEPHEN J HOFFMAN</td>\n",
       "      <td>MS-500</td>\n",
       "      <td>Yes</td>\n",
       "      <td>1.0</td>\n",
       "      <td>Reciprocating</td>\n",
       "      <td>ASHO</td>\n",
       "      <td>0.0</td>\n",
       "      <td>0.0</td>\n",
       "      <td>VMC</td>\n",
       "      <td>Landing</td>\n",
       "      <td>2022</td>\n",
       "    </tr>\n",
       "    <tr>\n",
       "      <th>65183</th>\n",
       "      <td>United States</td>\n",
       "      <td>Non-Fatal</td>\n",
       "      <td>Bridgeport, TX</td>\n",
       "      <td>Substantial</td>\n",
       "      <td>LUSCOMBE</td>\n",
       "      <td>8E</td>\n",
       "      <td>No</td>\n",
       "      <td>1.0</td>\n",
       "      <td>Reciprocating</td>\n",
       "      <td>Personal</td>\n",
       "      <td>0.0</td>\n",
       "      <td>2.0</td>\n",
       "      <td>VMC</td>\n",
       "      <td>Landing</td>\n",
       "      <td>2022</td>\n",
       "    </tr>\n",
       "  </tbody>\n",
       "</table>\n",
       "<p>65184 rows × 15 columns</p>\n",
       "</div>"
      ],
      "text/plain": [
       "             Country Injury Severity          Location Aircraft Damage  \\\n",
       "0      United States        Fatal(2)   MOOSE CREEK, ID       Destroyed   \n",
       "1      United States        Fatal(2)        EUREKA, CA       Destroyed   \n",
       "2      United States       Non-Fatal       PULLMAN, WA     Substantial   \n",
       "3      United States       Non-Fatal  EAST HANOVER, NJ     Substantial   \n",
       "4      United States       Non-Fatal  JACKSONVILLE, FL     Substantial   \n",
       "...              ...             ...               ...             ...   \n",
       "65179  United States       Non-Fatal          Iola, TX     Substantial   \n",
       "65180  United States       Non-Fatal        Dacula, GA     Substantial   \n",
       "65181  United States       Non-Fatal       Ardmore, OK     Substantial   \n",
       "65182  United States           Minor       Houston, TX     Substantial   \n",
       "65183  United States       Non-Fatal    Bridgeport, TX     Substantial   \n",
       "\n",
       "                    Make         Model Amateur Built  Number Of Engines  \\\n",
       "0                Stinson         108-3            No                1.0   \n",
       "1               Rockwell           112            No                1.0   \n",
       "2                 Cessna           140            No                1.0   \n",
       "3                 Cessna          401B            No                2.0   \n",
       "4         North American  NAVION L-17B            No                1.0   \n",
       "...                  ...           ...           ...                ...   \n",
       "65179             CESSNA           150            No                1.0   \n",
       "65180             CESSNA         177RG            No                1.0   \n",
       "65181              BEECH          B-60            No                2.0   \n",
       "65182  STEPHEN J HOFFMAN        MS-500           Yes                1.0   \n",
       "65183           LUSCOMBE            8E            No                1.0   \n",
       "\n",
       "         Engine Type Purpose Of Flight  Total Fatal Injuries  Total Uninjured  \\\n",
       "0      Reciprocating          Personal                   2.0              0.0   \n",
       "1      Reciprocating          Personal                   2.0              0.0   \n",
       "2      Reciprocating          Personal                   0.0              2.0   \n",
       "3      Reciprocating          Business                   0.0              2.0   \n",
       "4      Reciprocating          Personal                   0.0              0.0   \n",
       "...              ...               ...                   ...              ...   \n",
       "65179  Reciprocating          Personal                   0.0              1.0   \n",
       "65180  Reciprocating          Personal                   0.0              2.0   \n",
       "65181  Reciprocating          Personal                   0.0              1.0   \n",
       "65182  Reciprocating              ASHO                   0.0              0.0   \n",
       "65183  Reciprocating          Personal                   0.0              2.0   \n",
       "\n",
       "      Weather Condition Broad Phase Of Flight  Year  \n",
       "0                   UNK                Cruise  1948  \n",
       "1                   IMC                Cruise  1977  \n",
       "2                   VMC               Takeoff  1982  \n",
       "3                   IMC               Landing  1982  \n",
       "4                   IMC                Cruise  1982  \n",
       "...                 ...                   ...   ...  \n",
       "65179               VMC               Landing  2022  \n",
       "65180               VMC               Landing  2022  \n",
       "65181               VMC               Landing  2022  \n",
       "65182               VMC               Landing  2022  \n",
       "65183               VMC               Landing  2022  \n",
       "\n",
       "[65184 rows x 15 columns]"
      ]
     },
     "execution_count": 33,
     "metadata": {},
     "output_type": "execute_result"
    }
   ],
   "source": [
    "#Loading the cleaned data\n",
    "df_cleaned=pd.read_csv(\"cleaned2_AviationData.csv\")\n",
    "df_cleaned\n"
   ]
  },
  {
   "cell_type": "code",
   "execution_count": 34,
   "metadata": {},
   "outputs": [
    {
     "data": {
      "text/plain": [
       "(65184, 15)"
      ]
     },
     "execution_count": 34,
     "metadata": {},
     "output_type": "execute_result"
    }
   ],
   "source": [
    "df_cleaned.shape"
   ]
  },
  {
   "cell_type": "markdown",
   "metadata": {},
   "source": [
    "## 2.1.2 Data Visualization"
   ]
  },
  {
   "cell_type": "code",
   "execution_count": 35,
   "metadata": {},
   "outputs": [],
   "source": [
    "#import the relevant libraries\n",
    "import matplotlib.pyplot as plt\n",
    "import seaborn as sns\n",
    "\n",
    "# Set up the plotting environment\n",
    "sns.set_palette(\"deep\")"
   ]
  },
  {
   "cell_type": "markdown",
   "metadata": {},
   "source": [
    "### Distribution of accidents from 1962 to 2023 and injury severity"
   ]
  },
  {
   "cell_type": "markdown",
   "metadata": {},
   "source": [
    "Is it safe to invest in the aviation industry?How many accidents have been seen over the years and how fatal were they?"
   ]
  },
  {
   "cell_type": "code",
   "execution_count": 36,
   "metadata": {},
   "outputs": [
    {
     "data": {
      "image/png": "[encoded data removed]",
      "text/plain": [
       "<Figure size 720x432 with 1 Axes>"
      ]
     },
     "metadata": {
      "needs_background": "light"
     },
     "output_type": "display_data"
    }
   ],
   "source": [
    "# Plot 3: Number of Fatal Injuries by Year\n",
    "plt.figure(figsize=(10, 6))\n",
    "sns.lineplot(data=df_cleaned.groupby('Year')['Total Fatal Injuries'].sum().reset_index(), x='Year', y='Total Fatal Injuries')\n",
    "plt.title('Total Fatal Injuries Over Time')\n",
    "plt.xlabel('Year')\n",
    "plt.ylabel('Total Fatal Injuries')\n",
    "plt.xticks(rotation=45)  # Rotate x labels\n",
    "plt.tight_layout()\n",
    "plt.show()"
   ]
  },
  {
   "cell_type": "markdown",
   "metadata": {},
   "source": [
    "The overall trend suggests significant progress in aviation safety, with fatal injuries becoming rarer as safety measures evolved.It is however notted that despite the decline trend in the number of accidents other factors such as travel restrictions affect the aviation indusrty.This is seen by a sharp decline in the number of fatal accidents 2020 due to travel bans caused by covid 19.\n"
   ]
  },
  {
   "cell_type": "markdown",
   "metadata": {},
   "source": [
    "### Accidents location"
   ]
  },
  {
   "cell_type": "markdown",
   "metadata": {},
   "source": [
    " top ten locations with most accidents."
   ]
  },
  {
   "cell_type": "code",
   "execution_count": 37,
   "metadata": {},
   "outputs": [
    {
     "data": {
      "image/png": "[encoded data removed]",
      "text/plain": [
       "<Figure size 864x432 with 1 Axes>"
      ]
     },
     "metadata": {
      "needs_background": "light"
     },
     "output_type": "display_data"
    }
   ],
   "source": [
    "#Plot accidents distribution by location\n",
    "plt.figure(figsize=(12, 6))\n",
    "\n",
    "# Get the top 10 most frequent locations for accidents\n",
    "locations_with_most_accidents = df_cleaned['Location'].value_counts().nlargest(10)\n",
    "\n",
    "# Plot the top 10 locations\n",
    "sns.barplot(x=locations_with_most_accidents .index, y=locations_with_most_accidents .values)\n",
    "plt.title('Locations with the most Accidents')\n",
    "plt.xlabel('Location')\n",
    "plt.ylabel('Accident Count')\n",
    "plt.xticks(rotation=90)\n",
    "plt.tight_layout()\n",
    "plt.show()\n"
   ]
  },
  {
   "cell_type": "markdown",
   "metadata": {},
   "source": [
    "Anchorage, Alaska has an accident count exceeding 350, far surpassing other locations.This can be attributed to large air traffic as air traffic has been seen to be directly proportional to the number of accidents.\n"
   ]
  },
  {
   "cell_type": "markdown",
   "metadata": {},
   "source": [
    "locations with least accidents"
   ]
  },
  {
   "cell_type": "code",
   "execution_count": 38,
   "metadata": {},
   "outputs": [
    {
     "data": {
      "image/png": "[encoded data removed]",
      "text/plain": [
       "<Figure size 864x432 with 1 Axes>"
      ]
     },
     "metadata": {
      "needs_background": "light"
     },
     "output_type": "display_data"
    }
   ],
   "source": [
    "plt.figure(figsize=(12, 6))\n",
    "\n",
    "# Get the top 10 most frequent locations for accidents\n",
    "location_with_least_accidents = df_cleaned['Location'].value_counts().nsmallest(10)\n",
    "\n",
    "# Plot the top 10 locations\n",
    "sns.barplot(x=location_with_least_accidents.index, y=location_with_least_accidents.values)\n",
    "plt.title('Locations with the least number of   Accidents')\n",
    "plt.xlabel('Location')\n",
    "plt.ylabel('Accident Count')\n",
    "plt.xticks(rotation=90)\n",
    "plt.tight_layout()\n",
    "plt.show()"
   ]
  },
  {
   "cell_type": "markdown",
   "metadata": {},
   "source": [
    "Above are the areas with the least number of incidents.This may signal a good opportunity for investment in terms of safety.It may also indicate good weather condition,low air traffic or advancement in technology.Good weather and advancement in technology offers promising opportunity for investment.Air traffic however directly correlates with the economic activity of an area and low air traffic may indicate few economic activities."
   ]
  },
  {
   "cell_type": "markdown",
   "metadata": {},
   "source": [
    "### purpose of flight"
   ]
  },
  {
   "cell_type": "markdown",
   "metadata": {},
   "source": [
    "what type of flights by purpose are mostly involved in accidents"
   ]
  },
  {
   "cell_type": "code",
   "execution_count": 39,
   "metadata": {},
   "outputs": [
    {
     "data": {
      "image/png": "[encoded data removed]",
      "text/plain": [
       "<Figure size 720x432 with 1 Axes>"
      ]
     },
     "metadata": {
      "needs_background": "light"
     },
     "output_type": "display_data"
    }
   ],
   "source": [
    "plt.figure(figsize=(10, 6))\n",
    "sns.countplot(data=df_cleaned, x='Purpose Of Flight', order=df_cleaned['Purpose Of Flight'].value_counts().index)\n",
    "plt.title('Accidents by Purpose of Flight')\n",
    "plt.xlabel('Purpose of Flight')\n",
    "plt.ylabel('Count of Accidents')\n",
    "plt.xticks(rotation=45)  # Rotate x labels\n",
    "plt.tight_layout()\n",
    "plt.show()"
   ]
  },
  {
   "cell_type": "markdown",
   "metadata": {},
   "source": [
    "The \"Personal\" category is overwhelmingly the largest, with over 40,000 accidents. It suggests that personal flights account for a significant majority of all accidents in the dataset.The second-highest category is \"Instructional\", with fewer than 10,000 accidents, followed by \"Aerial Application\", which has a similar count. This indicates that accidents occur relatively frequently in training and agricultural spraying or similar tasks.\n",
    "Business and Positioning flights contribute a smaller but noticeable share of accidents.\n"
   ]
  },
  {
   "cell_type": "markdown",
   "metadata": {},
   "source": [
    "# Make-model and purpose of flight"
   ]
  },
  {
   "cell_type": "markdown",
   "metadata": {},
   "source": [
    "what is the distribution of accidents based on the make,model and purpose of the aircraft.\n",
    "Which are the safest make and model based on the purpose of flight to invest in."
   ]
  },
  {
   "cell_type": "code",
   "execution_count": 40,
   "metadata": {},
   "outputs": [
    {
     "data": {
      "image/png": "[encoded data removed]",
      "text/plain": [
       "<Figure size 864x432 with 1 Axes>"
      ]
     },
     "metadata": {
      "needs_background": "light"
     },
     "output_type": "display_data"
    },
    {
     "data": {
      "image/png": "[encoded data removed]",
      "text/plain": [
       "<Figure size 864x432 with 1 Axes>"
      ]
     },
     "metadata": {
      "needs_background": "light"
     },
     "output_type": "display_data"
    }
   ],
   "source": [
    "# Group by 'Make', 'Model', and 'Purpose of Flight' to count accidents\n",
    "df_cleaned['Make_Model'] = df_cleaned['Make'] + ' ' + df_cleaned['Model']\n",
    "make_model_purpose_counts = df_cleaned.groupby(['Make_Model', 'Purpose Of Flight']).size().reset_index(name='Accident_Count')\n",
    "\n",
    "# Top 10 combinations\n",
    "top_10_make_model_purpose = make_model_purpose_counts.nlargest(10, 'Accident_Count')\n",
    "\n",
    "# Least 10 combinations\n",
    "least_10_make_model_purpose = make_model_purpose_counts.nsmallest(10, 'Accident_Count')\n",
    "\n",
    "# Plot the Top 10 Make-Model and Purpose of Flight combinations\n",
    "plt.figure(figsize=(12, 6))\n",
    "sns.barplot(data=top_10_make_model_purpose, x='Make_Model', y='Accident_Count', hue='Purpose Of Flight')\n",
    "plt.title('Top 10 Make-Model and Purpose of Flight Combinations by Accident Count')\n",
    "plt.xlabel('Make and Model')\n",
    "plt.ylabel('Accident Count')\n",
    "plt.xticks(rotation=90)\n",
    "plt.tight_layout()\n",
    "plt.show()\n",
    "\n",
    "# Plot the Least 10 Make-Model and Purpose of Flight combinations\n",
    "plt.figure(figsize=(12, 6))\n",
    "sns.barplot(data=least_10_make_model_purpose, x='Make_Model', y='Accident_Count', hue='Purpose Of Flight')\n",
    "plt.title('Least 10 Make-Model and Purpose of Flight Combinations by Accident Count')\n",
    "plt.xlabel('Make and Model')\n",
    "plt.ylabel('Accident Count')\n",
    "plt.xticks(rotation=90)\n",
    "plt.tight_layout()\n",
    "plt.show()\n"
   ]
  },
  {
   "cell_type": "markdown",
   "metadata": {},
   "source": [
    "Cessna 152 used for  instructional purpose is the most prone to accidents.Cessna aircrafts used for personal travels dominates the list of the ten most aircrafts with accidents followed by Piper."
   ]
  },
  {
   "cell_type": "markdown",
   "metadata": {},
   "source": [
    "### Aircraft Damage"
   ]
  },
  {
   "cell_type": "markdown",
   "metadata": {},
   "source": [
    "how damaged are the aircrafts incase of an accident?"
   ]
  },
  {
   "cell_type": "code",
   "execution_count": 41,
   "metadata": {},
   "outputs": [
    {
     "data": {
      "image/png": "[encoded data removed]",
      "text/plain": [
       "<Figure size 720x432 with 1 Axes>"
      ]
     },
     "metadata": {
      "needs_background": "light"
     },
     "output_type": "display_data"
    }
   ],
   "source": [
    "plt.figure(figsize=(10, 6))\n",
    "sns.countplot(data=df_cleaned, x='Aircraft Damage', order=df_cleaned['Aircraft Damage'].value_counts().index)\n",
    "plt.title('Distribution of Aircraft Damage')\n",
    "plt.xlabel('Aircraft Damage')\n",
    "plt.ylabel('Count')\n",
    "plt.xticks(rotation=45)  # Rotate x labels\n",
    "plt.tight_layout()\n",
    "plt.show()"
   ]
  },
  {
   "cell_type": "markdown",
   "metadata": {},
   "source": [
    "The chart is dominated by the \"Substantial\" category, with over 50,000 instances, indicating most accidents result in significant but repairable aircraft damage. The second most common outcome is \"Destroyed,\" with around 10,000–15,000 incidents, representing cases where aircraft were irreparably damaged. \"Minor\" damage is rare, showing only a small number of accidents with superficial or easily fixable damage."
   ]
  },
  {
   "cell_type": "markdown",
   "metadata": {},
   "source": [
    "### Distribution of Injury Severity"
   ]
  },
  {
   "cell_type": "markdown",
   "metadata": {},
   "source": [
    "how fatal were the injuries?"
   ]
  },
  {
   "cell_type": "code",
   "execution_count": 42,
   "metadata": {},
   "outputs": [
    {
     "data": {
      "image/png": "[encoded data removed]",
      "text/plain": [
       "<Figure size 720x432 with 1 Axes>"
      ]
     },
     "metadata": {
      "needs_background": "light"
     },
     "output_type": "display_data"
    }
   ],
   "source": [
    "# Plot 1: Distribution of Injury Severity\n",
    "plt.figure(figsize=(10, 6))\n",
    "sns.countplot(data=df_cleaned, x='Injury Severity', order=df_cleaned['Injury Severity'].value_counts().index)\n",
    "plt.title('Distribution of Injury Severity')\n",
    "plt.xlabel('Injury Severity')\n",
    "plt.ylabel('Count')\n",
    "plt.xticks(rotation=45)  # Rotate x labels\n",
    "plt.tight_layout()\n",
    "plt.show()\n"
   ]
  },
  {
   "cell_type": "markdown",
   "metadata": {},
   "source": [
    "Most injuries by severity are non-fatal."
   ]
  },
  {
   "cell_type": "markdown",
   "metadata": {},
   "source": [
    "### Distribution of Engine Type"
   ]
  },
  {
   "cell_type": "markdown",
   "metadata": {},
   "source": [
    "which engine types are most and least involved in  accidents?"
   ]
  },
  {
   "cell_type": "code",
   "execution_count": 47,
   "metadata": {},
   "outputs": [
    {
     "data": {
      "image/png": "[encoded data removed]",
      "text/plain": [
       "<Figure size 720x432 with 1 Axes>"
      ]
     },
     "metadata": {
      "needs_background": "light"
     },
     "output_type": "display_data"
    }
   ],
   "source": [
    "plt.figure(figsize=(10, 6))\n",
    "sns.countplot(data=df_cleaned, x='Engine Type', order=df_cleaned['Engine Type'].value_counts().index)\n",
    "plt.title('Distribution of Engine Type')\n",
    "plt.xlabel('Engine Type')\n",
    "plt.ylabel('Count')\n",
    "plt.xticks(rotation=45)  # Rotate x labels\n",
    "plt.tight_layout()\n",
    "plt.show()"
   ]
  },
  {
   "cell_type": "markdown",
   "metadata": {},
   "source": [
    "Reciprocating engines are the most prone to accidents.Reciprocating engines are used for small aircrafts such as Cessna .The small aircrafts areused for personal purposes.This explains why Cessna has the highest number of accidents.\n",
    "Turbo jet engines are used in commercial and business aircracts and have low number of accidents."
   ]
  },
  {
   "cell_type": "markdown",
   "metadata": {},
   "source": [
    "### Distribution of Accidents by Weather Condition"
   ]
  },
  {
   "cell_type": "code",
   "execution_count": 44,
   "metadata": {},
   "outputs": [
    {
     "data": {
      "image/png": "[encoded data removed]",
      "text/plain": [
       "<Figure size 720x432 with 1 Axes>"
      ]
     },
     "metadata": {
      "needs_background": "light"
     },
     "output_type": "display_data"
    }
   ],
   "source": [
    "\n",
    "plt.figure(figsize=(10, 6))\n",
    "sns.countplot(data=df_cleaned, x='Weather Condition', order=df_cleaned['Weather Condition'].value_counts().index)\n",
    "plt.title('Distribution of Weather Condition')\n",
    "plt.xlabel('Weather Condition')\n",
    "plt.ylabel('Count')\n",
    "plt.xticks(rotation=45)  # Rotate x labels\n",
    "plt.tight_layout()\n",
    "plt.show()"
   ]
  },
  {
   "cell_type": "markdown",
   "metadata": {},
   "source": [
    "Weather condition directly affects the number of accidents.This is confirmed by our analysis of the location where Alaska has the most accidents and experiences bad weather."
   ]
  },
  {
   "cell_type": "markdown",
   "metadata": {},
   "source": [
    "### Distribution of Broad Phase of Flight"
   ]
  },
  {
   "cell_type": "code",
   "execution_count": 45,
   "metadata": {},
   "outputs": [
    {
     "data": {
      "image/png": "[encoded data removed]",
      "text/plain": [
       "<Figure size 720x432 with 1 Axes>"
      ]
     },
     "metadata": {
      "needs_background": "light"
     },
     "output_type": "display_data"
    }
   ],
   "source": [
    "\n",
    "plt.figure(figsize=(10, 6))\n",
    "sns.countplot(data=df_cleaned, x='Broad Phase Of Flight', order=df_cleaned['Broad Phase Of Flight'].value_counts().index)\n",
    "plt.title('Distribution of Flight Phase')\n",
    "plt.xlabel('Phase of Flight')\n",
    "plt.ylabel('Count')\n",
    "plt.xticks(rotation=45)  # Rotate x labels\n",
    "plt.tight_layout()\n",
    "plt.show()\n",
    "\n"
   ]
  },
  {
   "cell_type": "markdown",
   "metadata": {},
   "source": [
    "The above plot shows that most accidents occur during landing and take off followed by cruise and maneuvering.The high number of accidents during landing may be attributed to several factors among them proximity to obstacles,decision making pressure,environmental conditions among other factors."
   ]
  },
  {
   "cell_type": "markdown",
   "metadata": {},
   "source": [
    "## Conclusion"
   ]
  },
  {
   "cell_type": "markdown",
   "metadata": {},
   "source": [
    "The analysis has given us insights into the risk and opportunities in the aviation industry.Based on the analysis of the accidents i would recommend that Datan Africa invest in the aviation industry."
   ]
  },
  {
   "cell_type": "code",
   "execution_count": null,
   "metadata": {},
   "outputs": [],
   "source": []
  }
 ],
 "metadata": {
  "kernelspec": {
   "display_name": "Python (learn-env)",
   "language": "python",
   "name": "learn-env"
  },
  "language_info": {
   "codemirror_mode": {
    "name": "ipython",
    "version": 3
   },
   "file_extension": ".py",
   "mimetype": "text/x-python",
   "name": "python",
   "nbconvert_exporter": "python",
   "pygments_lexer": "ipython3",
   "version": "3.8.5"
  }
 },
 "nbformat": 4,
 "nbformat_minor": 4
}
